{
 "cells": [
  {
   "attachments": {},
   "cell_type": "markdown",
   "metadata": {},
   "source": [
    "# Deepscatter\n",
    "\n",
    "> from deepscatter."
   ]
  },
  {
   "cell_type": "code",
   "execution_count": null,
   "metadata": {},
   "outputs": [],
   "source": [
    "#| default_exp deepscatter"
   ]
  },
  {
   "cell_type": "code",
   "execution_count": null,
   "metadata": {},
   "outputs": [],
   "source": [
    "#| export\n",
    "import os, json, argparse\n",
    "from pathlib import Path\n",
    "import pyarrow as pa\n",
    "from pyarrow import compute as pc\n",
    "from pyarrow import feather"
   ]
  },
  {
   "cell_type": "code",
   "execution_count": null,
   "metadata": {},
   "outputs": [],
   "source": [
    "#| export\n",
    "def parse_args():\n",
    "  parser = argparse.ArgumentParser(description='Add sidecar files to a tileset.')\n",
    "  parser.add_argument('--tileset', type=Path, required=True,\n",
    "                      help='Path to the tileset to add sidecars to.')\n",
    "  parser.add_argument('--sidecar', type=Path, required=True,\n",
    "                      help='Path to the new data to add to the tileset.')\n",
    "  parser.add_argument('--key', type=str, help = 'key to use for joining; must exist in both tables', required=True)\n",
    "  parser.add_argument('--verbose', '-v', type=bool, help = 'key to use for joining; must exist in both tables', required=False, default=False)\n",
    "  return parser.parse_args()\n",
    "\n",
    "class Tileset:\n",
    "  def __init__(self, dir: Path):\n",
    "    self.dir = dir\n",
    "  \n",
    "  def __iter__(self):\n",
    "    \"\"\"\n",
    "    Iterate over all the base level files in the directory.\n",
    "    \"\"\"\n",
    "    for file in self.dir.glob('*/*/*.feather'):\n",
    "      if len(file.stem.split('.')) > 1:\n",
    "        # Ignore sidecar files\n",
    "        continue\n",
    "      yield file\n",
    "  \n",
    "  def sidecar_iter(self, sidecar):\n",
    "    \"\"\"\n",
    "    Iterate over all sidecar files in the directory.\n",
    "    \"\"\"\n",
    "    for file in self.dir.glob('*/*/*.feather'):\n",
    "      splat = file.stem.split('.')\n",
    "      if len(splat) == 1:\n",
    "        continue\n",
    "      if splat[1] != sidecar:\n",
    "        continue\n",
    "      yield file\n",
    "\n",
    "  def add_sidecars(self, sidecar: Path, key: str, filename = None, verbose:bool=False):\n",
    "    \"\"\"\n",
    "    Add sidecar files to a tileset.\n",
    "\n",
    "    Parameters\n",
    "    ----------\n",
    "    sidecar: Path A single feather file to add to the tileset.\n",
    "    key: str The column to use for joining the sidecar to the tileset.\n",
    "    filename: bool If present, the name of the file to write the sidecar to.\n",
    "              Otherwise, each column will get its own file named by the column name.\n",
    "    \"\"\"\n",
    "    sidecar_table = feather.read_table(sidecar)\n",
    "    master_lookup = []\n",
    "    slices : list[tuple[int, int, Path]] = []\n",
    "    start = 0\n",
    "    for i, file in enumerate(self):\n",
    "      table = feather.read_table(file, columns=[key])\n",
    "      # table = table.append_column('file', pa.array([file.name] * len(table)))\n",
    "      master_lookup.append(table)\n",
    "      slices.append((start, start + len(table), file))\n",
    "      start += len(table)\n",
    "      if len(table) > 66_000:\n",
    "        raise ValueError(f\"file {file} has more than 66k rows; this indicates a problem with the tileset\")\n",
    "    master_lookup_tb = pa.concat_tables(master_lookup)\n",
    "    all_ixes = pc.index_in(master_lookup_tb[key], sidecar_table[key])\n",
    "\n",
    "    locations = {}\n",
    "    for start, end, file in slices:\n",
    "        if verbose:\n",
    "          print(file)\n",
    "        # end-start because for pyarrow slice takes a length, not two offsets. Learned that the hard way.\n",
    "        ixes = all_ixes.slice(start, end - start)\n",
    "        tb = sidecar_table.take(ixes).combine_chunks()\n",
    "        assert len(tb.to_batches()) == 1\n",
    "        if filename is None:\n",
    "          for column in tb.column_names:\n",
    "            if column != key:\n",
    "              locations[column] = column\n",
    "              fout = file.with_suffix(f\".{column}.feather\")\n",
    "              feather.write_feather(tb.select([column]), fout, compression='uncompressed')\n",
    "        else:\n",
    "          fout = file.with_suffix(f\".{filename}.feather\")\n",
    "          locations = {key: filename for column in tb.column_names if column != key}\n",
    "          feather.write_feather(tb.drop(key), fout, compression='uncompressed')\n",
    "\n",
    "    # Overwrite the root tile with information about the sidecars.\n",
    "    rootpath = self.dir / \"0/0/0.feather\"\n",
    "    root = feather.read_table(rootpath)\n",
    "    locations = {column: column for column in sidecar_table.column_names if column != key}\n",
    "    # Copy the existing sidecar locations, if any.\n",
    "    locations = {**json.loads(root.schema.metadata.get(b\"sidecars\", b\"{}\")), **locations}\n",
    "    root = root.replace_schema_metadata({**root.schema.metadata, b\"sidecars\": json.dumps(locations).encode('utf-8')})\n",
    "    feather.write_feather(root, rootpath, compression='uncompressed')\n",
    "\n",
    "def add_sidecars_cli():\n",
    "  args = parse_args()\n",
    "  tileset = Tileset(args.tileset)\n",
    "  tileset.add_sidecars(args.sidecar, args.key, verbose=args.verbose)"
   ]
  },
  {
   "cell_type": "code",
   "execution_count": null,
   "metadata": {},
   "outputs": [],
   "source": [
    "#| hide\n",
    "from nbdev.showdoc import *"
   ]
  },
  {
   "cell_type": "code",
   "execution_count": null,
   "metadata": {},
   "outputs": [],
   "source": [
    "#| hide\n",
    "import nbdev; nbdev.nbdev_export()"
   ]
  }
 ],
 "metadata": {
  "kernelspec": {
   "display_name": "python3",
   "language": "python",
   "name": "python3"
  }
 },
 "nbformat": 4,
 "nbformat_minor": 2
}
