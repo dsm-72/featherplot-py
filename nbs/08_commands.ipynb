{
 "cells": [
  {
   "attachments": {},
   "cell_type": "markdown",
   "metadata": {},
   "source": [
    "# commands\n",
    "\n",
    "> command functions."
   ]
  },
  {
   "cell_type": "code",
   "execution_count": null,
   "metadata": {},
   "outputs": [],
   "source": [
    "#| default_exp commands"
   ]
  },
  {
   "cell_type": "code",
   "execution_count": null,
   "metadata": {},
   "outputs": [],
   "source": [
    "#| hide\n",
    "from nbdev.showdoc import *"
   ]
  },
  {
   "cell_type": "code",
   "execution_count": null,
   "metadata": {},
   "outputs": [],
   "source": [
    "#| export\n",
    "import os, yaml, configparser, typer\n",
    "from pathlib import Path\n",
    "from rich.table import Table\n",
    "from rich.console import Console\n",
    "from rich.repr import auto as rich_auto\n",
    "from dataclasses import dataclass, field\n",
    "\n",
    "from typing import (\n",
    "    ClassVar, List, Dict, Union, Optional, Tuple, Sequence, Set,\n",
    "    Any, TypeVar, Type, Callable, cast, no_type_check\n",
    ")"
   ]
  },
  {
   "cell_type": "code",
   "execution_count": null,
   "metadata": {},
   "outputs": [],
   "source": [
    "#| export\n",
    "from featherplot.typer import app"
   ]
  },
  {
   "cell_type": "code",
   "execution_count": null,
   "metadata": {},
   "outputs": [],
   "source": [
    "#| export\n",
    "from featherplot.deepscatter import add_sidecars_cli\n",
    "from featherplot.deepscatter import Tileset"
   ]
  },
  {
   "cell_type": "code",
   "execution_count": null,
   "metadata": {},
   "outputs": [],
   "source": [
    "#| export\n",
    "@app.command()\n",
    "def add_sidecars(\n",
    "    tileset:Path = typer.Option('--tileset', help='Path to the tileset to add sidecars to.'),\n",
    "\n",
    "    sidecar:Path = typer.Option('--sidecar',  help='Path to the new data to add to the tileset.'),\n",
    "    key:str = typer.Option('--key', help='key to use for joining; must exist in both tables'),\n",
    "\n",
    "    verbose:bool = typer.Option(False, '--verbose', '-v', help='Print verbose output.', is_flag=True),\n",
    "):\n",
    "    tileset = Tileset(tileset)\n",
    "    tileset.add_sidecars(sidecar, key, verbose=verbose)"
   ]
  },
  {
   "cell_type": "code",
   "execution_count": null,
   "metadata": {},
   "outputs": [],
   "source": [
    "#| export\n",
    "@app.command()\n",
    "def export_conda_to_ini():\n",
    "    pass"
   ]
  },
  {
   "cell_type": "code",
   "execution_count": null,
   "metadata": {},
   "outputs": [],
   "source": [
    "#| export\n",
    "def run_add_sidecars():     \n",
    "    app()    \n",
    "    add_sidecars_cli_wrapper()"
   ]
  },
  {
   "cell_type": "code",
   "execution_count": null,
   "metadata": {},
   "outputs": [],
   "source": [
    "#| export\n",
    "def run_export_conda_to_ini():     \n",
    "    app()    \n",
    "    export_conda_to_ini()"
   ]
  },
  {
   "cell_type": "code",
   "execution_count": null,
   "metadata": {},
   "outputs": [],
   "source": [
    "#| hide\n",
    "import nbdev; nbdev.nbdev_export()"
   ]
  }
 ],
 "metadata": {
  "kernelspec": {
   "display_name": "python3",
   "language": "python",
   "name": "python3"
  }
 },
 "nbformat": 4,
 "nbformat_minor": 2
}
