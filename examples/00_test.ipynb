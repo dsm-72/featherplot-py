{
 "cells": [
  {
   "cell_type": "code",
   "execution_count": 1,
   "metadata": {},
   "outputs": [],
   "source": [
    "%load_ext autoreload\n",
    "%autoreload 2"
   ]
  },
  {
   "cell_type": "code",
   "execution_count": 2,
   "metadata": {},
   "outputs": [],
   "source": [
    "# standard lib\n",
    "import os, pwd, sys, json, yaml, atexit, tempfile, inspect\n",
    "from pathlib import Path\n",
    "\n",
    "# for data-science\n",
    "import pandas as pd, numpy as np, quadfeather\n",
    "from pyarrow import feather\n",
    "\n",
    "# for plotting\n",
    "import matplotlib as mpl, matplotlib.pyplot as plt, seaborn as sns\n",
    "\n",
    "# for cellular-data\n",
    "import scprep, scanpy as sc, anndata as ad"
   ]
  },
  {
   "cell_type": "code",
   "execution_count": 30,
   "metadata": {},
   "outputs": [],
   "source": [
    "from featherplot.utils import MockSingleCellData, AnnDataProcessor, QuadFeatherRenamer\n",
    "from featherplot.utils import SeriesToChannel, DataFrameToMetadata\n",
    "\n",
    "from featherplot.utils import collapse_user\n",
    "from featherplot.deepscatter import Tileset"
   ]
  },
  {
   "cell_type": "code",
   "execution_count": 4,
   "metadata": {},
   "outputs": [],
   "source": [
    "mocker = MockSingleCellData()\n",
    "adata = mocker.adata"
   ]
  },
  {
   "cell_type": "code",
   "execution_count": 5,
   "metadata": {},
   "outputs": [
    {
     "data": {
      "text/plain": [
       "AnnData object with n_obs × n_vars = 1000 × 100\n",
       "    obs: 'barcodes', 'conditions'\n",
       "    var: 'is_hvg'\n",
       "    obsm: 'X_mock'\n",
       "    layers: 'X_norm'"
      ]
     },
     "execution_count": 5,
     "metadata": {},
     "output_type": "execute_result"
    }
   ],
   "source": [
    "adata"
   ]
  },
  {
   "attachments": {},
   "cell_type": "markdown",
   "metadata": {},
   "source": [
    "### Create Processor\n",
    "> this will help us extract the embedding layer and the gene expression layer"
   ]
  },
  {
   "cell_type": "code",
   "execution_count": 6,
   "metadata": {},
   "outputs": [],
   "source": [
    "pipe = AnnDataProcessor(adata, 'X_mock', 'X_norm')"
   ]
  },
  {
   "attachments": {},
   "cell_type": "markdown",
   "metadata": {},
   "source": [
    "#### sidecars\n",
    "\n",
    "Deepscatter calls additional columns `sidecars`, in our case those are the columns of gene expression. We place these values in `df_s`."
   ]
  },
  {
   "cell_type": "code",
   "execution_count": 7,
   "metadata": {},
   "outputs": [
    {
     "data": {
      "text/html": [
       "<div>\n",
       "<style scoped>\n",
       "    .dataframe tbody tr th:only-of-type {\n",
       "        vertical-align: middle;\n",
       "    }\n",
       "\n",
       "    .dataframe tbody tr th {\n",
       "        vertical-align: top;\n",
       "    }\n",
       "\n",
       "    .dataframe thead th {\n",
       "        text-align: right;\n",
       "    }\n",
       "</style>\n",
       "<table border=\"1\" class=\"dataframe\">\n",
       "  <thead>\n",
       "    <tr style=\"text-align: right;\">\n",
       "      <th>gene_symbols</th>\n",
       "      <th>gene_symbol 0</th>\n",
       "      <th>gene_symbol 1</th>\n",
       "      <th>gene_symbol 2</th>\n",
       "      <th>gene_symbol 3</th>\n",
       "      <th>gene_symbol 4</th>\n",
       "      <th>gene_symbol 5</th>\n",
       "      <th>gene_symbol 6</th>\n",
       "      <th>gene_symbol 7</th>\n",
       "      <th>gene_symbol 8</th>\n",
       "      <th>gene_symbol 9</th>\n",
       "      <th>...</th>\n",
       "      <th>gene_symbol 90</th>\n",
       "      <th>gene_symbol 91</th>\n",
       "      <th>gene_symbol 92</th>\n",
       "      <th>gene_symbol 93</th>\n",
       "      <th>gene_symbol 94</th>\n",
       "      <th>gene_symbol 95</th>\n",
       "      <th>gene_symbol 96</th>\n",
       "      <th>gene_symbol 97</th>\n",
       "      <th>gene_symbol 98</th>\n",
       "      <th>gene_symbol 99</th>\n",
       "    </tr>\n",
       "    <tr>\n",
       "      <th>barcodes</th>\n",
       "      <th></th>\n",
       "      <th></th>\n",
       "      <th></th>\n",
       "      <th></th>\n",
       "      <th></th>\n",
       "      <th></th>\n",
       "      <th></th>\n",
       "      <th></th>\n",
       "      <th></th>\n",
       "      <th></th>\n",
       "      <th></th>\n",
       "      <th></th>\n",
       "      <th></th>\n",
       "      <th></th>\n",
       "      <th></th>\n",
       "      <th></th>\n",
       "      <th></th>\n",
       "      <th></th>\n",
       "      <th></th>\n",
       "      <th></th>\n",
       "      <th></th>\n",
       "    </tr>\n",
       "  </thead>\n",
       "  <tbody>\n",
       "    <tr>\n",
       "      <th>barcode 0</th>\n",
       "      <td>0.659122</td>\n",
       "      <td>0.003639</td>\n",
       "      <td>-0.015749</td>\n",
       "      <td>-0.603925</td>\n",
       "      <td>0.252770</td>\n",
       "      <td>0.269117</td>\n",
       "      <td>-0.277937</td>\n",
       "      <td>-1.141009</td>\n",
       "      <td>0.246501</td>\n",
       "      <td>-0.764321</td>\n",
       "      <td>...</td>\n",
       "      <td>0.057746</td>\n",
       "      <td>1.708629</td>\n",
       "      <td>0.018431</td>\n",
       "      <td>0.961223</td>\n",
       "      <td>0.406869</td>\n",
       "      <td>1.002873</td>\n",
       "      <td>-0.670653</td>\n",
       "      <td>0.102878</td>\n",
       "      <td>0.153170</td>\n",
       "      <td>-0.048077</td>\n",
       "    </tr>\n",
       "    <tr>\n",
       "      <th>barcode 1</th>\n",
       "      <td>-0.402907</td>\n",
       "      <td>1.204930</td>\n",
       "      <td>-0.274225</td>\n",
       "      <td>-1.037198</td>\n",
       "      <td>0.418239</td>\n",
       "      <td>-1.241845</td>\n",
       "      <td>1.069331</td>\n",
       "      <td>0.203468</td>\n",
       "      <td>-0.540119</td>\n",
       "      <td>-0.079864</td>\n",
       "      <td>...</td>\n",
       "      <td>-0.696836</td>\n",
       "      <td>-1.429597</td>\n",
       "      <td>0.051032</td>\n",
       "      <td>-0.589662</td>\n",
       "      <td>-1.615216</td>\n",
       "      <td>-0.542598</td>\n",
       "      <td>0.689434</td>\n",
       "      <td>-0.318802</td>\n",
       "      <td>0.996157</td>\n",
       "      <td>-0.197688</td>\n",
       "    </tr>\n",
       "    <tr>\n",
       "      <th>barcode 2</th>\n",
       "      <td>-1.024078</td>\n",
       "      <td>-2.104927</td>\n",
       "      <td>0.151219</td>\n",
       "      <td>-0.855913</td>\n",
       "      <td>-1.109425</td>\n",
       "      <td>0.712447</td>\n",
       "      <td>-0.406566</td>\n",
       "      <td>-0.856289</td>\n",
       "      <td>0.143649</td>\n",
       "      <td>-1.005060</td>\n",
       "      <td>...</td>\n",
       "      <td>0.077651</td>\n",
       "      <td>-0.471763</td>\n",
       "      <td>-0.850139</td>\n",
       "      <td>0.462508</td>\n",
       "      <td>-0.896641</td>\n",
       "      <td>-0.725573</td>\n",
       "      <td>0.157940</td>\n",
       "      <td>0.812640</td>\n",
       "      <td>-1.503678</td>\n",
       "      <td>0.550671</td>\n",
       "    </tr>\n",
       "    <tr>\n",
       "      <th>barcode 3</th>\n",
       "      <td>0.566234</td>\n",
       "      <td>0.632180</td>\n",
       "      <td>-0.082447</td>\n",
       "      <td>1.087428</td>\n",
       "      <td>0.160232</td>\n",
       "      <td>2.333781</td>\n",
       "      <td>1.101377</td>\n",
       "      <td>0.202270</td>\n",
       "      <td>-0.623662</td>\n",
       "      <td>0.554229</td>\n",
       "      <td>...</td>\n",
       "      <td>-0.759271</td>\n",
       "      <td>-0.204689</td>\n",
       "      <td>1.402447</td>\n",
       "      <td>-0.877854</td>\n",
       "      <td>0.916562</td>\n",
       "      <td>-0.946905</td>\n",
       "      <td>0.661854</td>\n",
       "      <td>1.676934</td>\n",
       "      <td>0.298044</td>\n",
       "      <td>-1.028242</td>\n",
       "    </tr>\n",
       "    <tr>\n",
       "      <th>barcode 4</th>\n",
       "      <td>0.870096</td>\n",
       "      <td>-0.666743</td>\n",
       "      <td>0.231560</td>\n",
       "      <td>-1.015140</td>\n",
       "      <td>-0.637058</td>\n",
       "      <td>1.318197</td>\n",
       "      <td>-0.777007</td>\n",
       "      <td>-1.204698</td>\n",
       "      <td>1.581399</td>\n",
       "      <td>1.070643</td>\n",
       "      <td>...</td>\n",
       "      <td>-0.409691</td>\n",
       "      <td>1.363445</td>\n",
       "      <td>-0.772657</td>\n",
       "      <td>0.156357</td>\n",
       "      <td>-0.116396</td>\n",
       "      <td>0.323422</td>\n",
       "      <td>0.000019</td>\n",
       "      <td>0.673207</td>\n",
       "      <td>0.118049</td>\n",
       "      <td>-0.205185</td>\n",
       "    </tr>\n",
       "  </tbody>\n",
       "</table>\n",
       "<p>5 rows × 100 columns</p>\n",
       "</div>"
      ],
      "text/plain": [
       "gene_symbols  gene_symbol 0  gene_symbol 1  gene_symbol 2  gene_symbol 3  \\\n",
       "barcodes                                                                   \n",
       "barcode 0          0.659122       0.003639      -0.015749      -0.603925   \n",
       "barcode 1         -0.402907       1.204930      -0.274225      -1.037198   \n",
       "barcode 2         -1.024078      -2.104927       0.151219      -0.855913   \n",
       "barcode 3          0.566234       0.632180      -0.082447       1.087428   \n",
       "barcode 4          0.870096      -0.666743       0.231560      -1.015140   \n",
       "\n",
       "gene_symbols  gene_symbol 4  gene_symbol 5  gene_symbol 6  gene_symbol 7  \\\n",
       "barcodes                                                                   \n",
       "barcode 0          0.252770       0.269117      -0.277937      -1.141009   \n",
       "barcode 1          0.418239      -1.241845       1.069331       0.203468   \n",
       "barcode 2         -1.109425       0.712447      -0.406566      -0.856289   \n",
       "barcode 3          0.160232       2.333781       1.101377       0.202270   \n",
       "barcode 4         -0.637058       1.318197      -0.777007      -1.204698   \n",
       "\n",
       "gene_symbols  gene_symbol 8  gene_symbol 9  ...  gene_symbol 90  \\\n",
       "barcodes                                    ...                   \n",
       "barcode 0          0.246501      -0.764321  ...        0.057746   \n",
       "barcode 1         -0.540119      -0.079864  ...       -0.696836   \n",
       "barcode 2          0.143649      -1.005060  ...        0.077651   \n",
       "barcode 3         -0.623662       0.554229  ...       -0.759271   \n",
       "barcode 4          1.581399       1.070643  ...       -0.409691   \n",
       "\n",
       "gene_symbols  gene_symbol 91  gene_symbol 92  gene_symbol 93  gene_symbol 94  \\\n",
       "barcodes                                                                       \n",
       "barcode 0           1.708629        0.018431        0.961223        0.406869   \n",
       "barcode 1          -1.429597        0.051032       -0.589662       -1.615216   \n",
       "barcode 2          -0.471763       -0.850139        0.462508       -0.896641   \n",
       "barcode 3          -0.204689        1.402447       -0.877854        0.916562   \n",
       "barcode 4           1.363445       -0.772657        0.156357       -0.116396   \n",
       "\n",
       "gene_symbols  gene_symbol 95  gene_symbol 96  gene_symbol 97  gene_symbol 98  \\\n",
       "barcodes                                                                       \n",
       "barcode 0           1.002873       -0.670653        0.102878        0.153170   \n",
       "barcode 1          -0.542598        0.689434       -0.318802        0.996157   \n",
       "barcode 2          -0.725573        0.157940        0.812640       -1.503678   \n",
       "barcode 3          -0.946905        0.661854        1.676934        0.298044   \n",
       "barcode 4           0.323422        0.000019        0.673207        0.118049   \n",
       "\n",
       "gene_symbols  gene_symbol 99  \n",
       "barcodes                      \n",
       "barcode 0          -0.048077  \n",
       "barcode 1          -0.197688  \n",
       "barcode 2           0.550671  \n",
       "barcode 3          -1.028242  \n",
       "barcode 4          -0.205185  \n",
       "\n",
       "[5 rows x 100 columns]"
      ]
     },
     "execution_count": 7,
     "metadata": {},
     "output_type": "execute_result"
    }
   ],
   "source": [
    "df_s = pipe.get_sidecars()\n",
    "df_s.head()"
   ]
  },
  {
   "attachments": {},
   "cell_type": "markdown",
   "metadata": {},
   "source": [
    "#### points\n",
    "\n",
    "If our gene expression features are called `sidecars`, then what is the embedding layer called? Well it is just the \"points\" of the plot, so we will store these values in `df_p`.\n",
    "\n",
    "**NOTE**: we also store conditions with `df_p` as whatever is in this DataFrame will be loaded by `Deepscatter` automatically. "
   ]
  },
  {
   "cell_type": "code",
   "execution_count": 8,
   "metadata": {},
   "outputs": [
    {
     "data": {
      "text/html": [
       "<div>\n",
       "<style scoped>\n",
       "    .dataframe tbody tr th:only-of-type {\n",
       "        vertical-align: middle;\n",
       "    }\n",
       "\n",
       "    .dataframe tbody tr th {\n",
       "        vertical-align: top;\n",
       "    }\n",
       "\n",
       "    .dataframe thead th {\n",
       "        text-align: right;\n",
       "    }\n",
       "</style>\n",
       "<table border=\"1\" class=\"dataframe\">\n",
       "  <thead>\n",
       "    <tr style=\"text-align: right;\">\n",
       "      <th></th>\n",
       "      <th>MOCK_0</th>\n",
       "      <th>MOCK_1</th>\n",
       "      <th>MOCK_2</th>\n",
       "      <th>conditions</th>\n",
       "    </tr>\n",
       "    <tr>\n",
       "      <th>barcodes</th>\n",
       "      <th></th>\n",
       "      <th></th>\n",
       "      <th></th>\n",
       "      <th></th>\n",
       "    </tr>\n",
       "  </thead>\n",
       "  <tbody>\n",
       "    <tr>\n",
       "      <th>barcode 0</th>\n",
       "      <td>1.896752</td>\n",
       "      <td>-1.114631</td>\n",
       "      <td>-0.246413</td>\n",
       "      <td>condition 0</td>\n",
       "    </tr>\n",
       "    <tr>\n",
       "      <th>barcode 1</th>\n",
       "      <td>1.736171</td>\n",
       "      <td>-0.340127</td>\n",
       "      <td>-0.127783</td>\n",
       "      <td>condition 1</td>\n",
       "    </tr>\n",
       "    <tr>\n",
       "      <th>barcode 2</th>\n",
       "      <td>0.850548</td>\n",
       "      <td>-0.049597</td>\n",
       "      <td>-1.234048</td>\n",
       "      <td>condition 2</td>\n",
       "    </tr>\n",
       "    <tr>\n",
       "      <th>barcode 3</th>\n",
       "      <td>0.768318</td>\n",
       "      <td>1.213939</td>\n",
       "      <td>0.328942</td>\n",
       "      <td>condition 3</td>\n",
       "    </tr>\n",
       "    <tr>\n",
       "      <th>barcode 4</th>\n",
       "      <td>-0.437877</td>\n",
       "      <td>-1.125257</td>\n",
       "      <td>-1.094229</td>\n",
       "      <td>condition 0</td>\n",
       "    </tr>\n",
       "  </tbody>\n",
       "</table>\n",
       "</div>"
      ],
      "text/plain": [
       "             MOCK_0    MOCK_1    MOCK_2   conditions\n",
       "barcodes                                            \n",
       "barcode 0  1.896752 -1.114631 -0.246413  condition 0\n",
       "barcode 1  1.736171 -0.340127 -0.127783  condition 1\n",
       "barcode 2  0.850548 -0.049597 -1.234048  condition 2\n",
       "barcode 3  0.768318  1.213939  0.328942  condition 3\n",
       "barcode 4 -0.437877 -1.125257 -1.094229  condition 0"
      ]
     },
     "execution_count": 8,
     "metadata": {},
     "output_type": "execute_result"
    }
   ],
   "source": [
    "df_p = pipe.get_embedding()\n",
    "df_p = df_p.join(pipe.adata.obs.conditions)\n",
    "df_p.head()"
   ]
  },
  {
   "attachments": {},
   "cell_type": "markdown",
   "metadata": {},
   "source": [
    "#### Combined\n",
    "Now we combine `df_p` (points + condition) with `df_s` (\"sidecars\" i.e. gene expression). This is necessary as for script later on where we need to add the sidecars to already the `quadfeather`-ed (tiled) point data. "
   ]
  },
  {
   "cell_type": "code",
   "execution_count": 9,
   "metadata": {},
   "outputs": [
    {
     "data": {
      "text/html": [
       "<div>\n",
       "<style scoped>\n",
       "    .dataframe tbody tr th:only-of-type {\n",
       "        vertical-align: middle;\n",
       "    }\n",
       "\n",
       "    .dataframe tbody tr th {\n",
       "        vertical-align: top;\n",
       "    }\n",
       "\n",
       "    .dataframe thead th {\n",
       "        text-align: right;\n",
       "    }\n",
       "</style>\n",
       "<table border=\"1\" class=\"dataframe\">\n",
       "  <thead>\n",
       "    <tr style=\"text-align: right;\">\n",
       "      <th></th>\n",
       "      <th>MOCK_0</th>\n",
       "      <th>MOCK_1</th>\n",
       "      <th>MOCK_2</th>\n",
       "      <th>conditions</th>\n",
       "      <th>gene_symbol 0</th>\n",
       "      <th>gene_symbol 1</th>\n",
       "      <th>gene_symbol 2</th>\n",
       "      <th>gene_symbol 3</th>\n",
       "      <th>gene_symbol 4</th>\n",
       "      <th>gene_symbol 5</th>\n",
       "      <th>...</th>\n",
       "      <th>gene_symbol 90</th>\n",
       "      <th>gene_symbol 91</th>\n",
       "      <th>gene_symbol 92</th>\n",
       "      <th>gene_symbol 93</th>\n",
       "      <th>gene_symbol 94</th>\n",
       "      <th>gene_symbol 95</th>\n",
       "      <th>gene_symbol 96</th>\n",
       "      <th>gene_symbol 97</th>\n",
       "      <th>gene_symbol 98</th>\n",
       "      <th>gene_symbol 99</th>\n",
       "    </tr>\n",
       "    <tr>\n",
       "      <th>barcodes</th>\n",
       "      <th></th>\n",
       "      <th></th>\n",
       "      <th></th>\n",
       "      <th></th>\n",
       "      <th></th>\n",
       "      <th></th>\n",
       "      <th></th>\n",
       "      <th></th>\n",
       "      <th></th>\n",
       "      <th></th>\n",
       "      <th></th>\n",
       "      <th></th>\n",
       "      <th></th>\n",
       "      <th></th>\n",
       "      <th></th>\n",
       "      <th></th>\n",
       "      <th></th>\n",
       "      <th></th>\n",
       "      <th></th>\n",
       "      <th></th>\n",
       "      <th></th>\n",
       "    </tr>\n",
       "  </thead>\n",
       "  <tbody>\n",
       "    <tr>\n",
       "      <th>barcode 0</th>\n",
       "      <td>1.896752</td>\n",
       "      <td>-1.114631</td>\n",
       "      <td>-0.246413</td>\n",
       "      <td>condition 0</td>\n",
       "      <td>0.659122</td>\n",
       "      <td>0.003639</td>\n",
       "      <td>-0.015749</td>\n",
       "      <td>-0.603925</td>\n",
       "      <td>0.252770</td>\n",
       "      <td>0.269117</td>\n",
       "      <td>...</td>\n",
       "      <td>0.057746</td>\n",
       "      <td>1.708629</td>\n",
       "      <td>0.018431</td>\n",
       "      <td>0.961223</td>\n",
       "      <td>0.406869</td>\n",
       "      <td>1.002873</td>\n",
       "      <td>-0.670653</td>\n",
       "      <td>0.102878</td>\n",
       "      <td>0.153170</td>\n",
       "      <td>-0.048077</td>\n",
       "    </tr>\n",
       "    <tr>\n",
       "      <th>barcode 1</th>\n",
       "      <td>1.736171</td>\n",
       "      <td>-0.340127</td>\n",
       "      <td>-0.127783</td>\n",
       "      <td>condition 1</td>\n",
       "      <td>-0.402907</td>\n",
       "      <td>1.204930</td>\n",
       "      <td>-0.274225</td>\n",
       "      <td>-1.037198</td>\n",
       "      <td>0.418239</td>\n",
       "      <td>-1.241845</td>\n",
       "      <td>...</td>\n",
       "      <td>-0.696836</td>\n",
       "      <td>-1.429597</td>\n",
       "      <td>0.051032</td>\n",
       "      <td>-0.589662</td>\n",
       "      <td>-1.615216</td>\n",
       "      <td>-0.542598</td>\n",
       "      <td>0.689434</td>\n",
       "      <td>-0.318802</td>\n",
       "      <td>0.996157</td>\n",
       "      <td>-0.197688</td>\n",
       "    </tr>\n",
       "    <tr>\n",
       "      <th>barcode 2</th>\n",
       "      <td>0.850548</td>\n",
       "      <td>-0.049597</td>\n",
       "      <td>-1.234048</td>\n",
       "      <td>condition 2</td>\n",
       "      <td>-1.024078</td>\n",
       "      <td>-2.104927</td>\n",
       "      <td>0.151219</td>\n",
       "      <td>-0.855913</td>\n",
       "      <td>-1.109425</td>\n",
       "      <td>0.712447</td>\n",
       "      <td>...</td>\n",
       "      <td>0.077651</td>\n",
       "      <td>-0.471763</td>\n",
       "      <td>-0.850139</td>\n",
       "      <td>0.462508</td>\n",
       "      <td>-0.896641</td>\n",
       "      <td>-0.725573</td>\n",
       "      <td>0.157940</td>\n",
       "      <td>0.812640</td>\n",
       "      <td>-1.503678</td>\n",
       "      <td>0.550671</td>\n",
       "    </tr>\n",
       "    <tr>\n",
       "      <th>barcode 3</th>\n",
       "      <td>0.768318</td>\n",
       "      <td>1.213939</td>\n",
       "      <td>0.328942</td>\n",
       "      <td>condition 3</td>\n",
       "      <td>0.566234</td>\n",
       "      <td>0.632180</td>\n",
       "      <td>-0.082447</td>\n",
       "      <td>1.087428</td>\n",
       "      <td>0.160232</td>\n",
       "      <td>2.333781</td>\n",
       "      <td>...</td>\n",
       "      <td>-0.759271</td>\n",
       "      <td>-0.204689</td>\n",
       "      <td>1.402447</td>\n",
       "      <td>-0.877854</td>\n",
       "      <td>0.916562</td>\n",
       "      <td>-0.946905</td>\n",
       "      <td>0.661854</td>\n",
       "      <td>1.676934</td>\n",
       "      <td>0.298044</td>\n",
       "      <td>-1.028242</td>\n",
       "    </tr>\n",
       "    <tr>\n",
       "      <th>barcode 4</th>\n",
       "      <td>-0.437877</td>\n",
       "      <td>-1.125257</td>\n",
       "      <td>-1.094229</td>\n",
       "      <td>condition 0</td>\n",
       "      <td>0.870096</td>\n",
       "      <td>-0.666743</td>\n",
       "      <td>0.231560</td>\n",
       "      <td>-1.015140</td>\n",
       "      <td>-0.637058</td>\n",
       "      <td>1.318197</td>\n",
       "      <td>...</td>\n",
       "      <td>-0.409691</td>\n",
       "      <td>1.363445</td>\n",
       "      <td>-0.772657</td>\n",
       "      <td>0.156357</td>\n",
       "      <td>-0.116396</td>\n",
       "      <td>0.323422</td>\n",
       "      <td>0.000019</td>\n",
       "      <td>0.673207</td>\n",
       "      <td>0.118049</td>\n",
       "      <td>-0.205185</td>\n",
       "    </tr>\n",
       "  </tbody>\n",
       "</table>\n",
       "<p>5 rows × 104 columns</p>\n",
       "</div>"
      ],
      "text/plain": [
       "             MOCK_0    MOCK_1    MOCK_2   conditions  gene_symbol 0  \\\n",
       "barcodes                                                              \n",
       "barcode 0  1.896752 -1.114631 -0.246413  condition 0       0.659122   \n",
       "barcode 1  1.736171 -0.340127 -0.127783  condition 1      -0.402907   \n",
       "barcode 2  0.850548 -0.049597 -1.234048  condition 2      -1.024078   \n",
       "barcode 3  0.768318  1.213939  0.328942  condition 3       0.566234   \n",
       "barcode 4 -0.437877 -1.125257 -1.094229  condition 0       0.870096   \n",
       "\n",
       "           gene_symbol 1  gene_symbol 2  gene_symbol 3  gene_symbol 4  \\\n",
       "barcodes                                                                \n",
       "barcode 0       0.003639      -0.015749      -0.603925       0.252770   \n",
       "barcode 1       1.204930      -0.274225      -1.037198       0.418239   \n",
       "barcode 2      -2.104927       0.151219      -0.855913      -1.109425   \n",
       "barcode 3       0.632180      -0.082447       1.087428       0.160232   \n",
       "barcode 4      -0.666743       0.231560      -1.015140      -0.637058   \n",
       "\n",
       "           gene_symbol 5  ...  gene_symbol 90  gene_symbol 91  gene_symbol 92  \\\n",
       "barcodes                  ...                                                   \n",
       "barcode 0       0.269117  ...        0.057746        1.708629        0.018431   \n",
       "barcode 1      -1.241845  ...       -0.696836       -1.429597        0.051032   \n",
       "barcode 2       0.712447  ...        0.077651       -0.471763       -0.850139   \n",
       "barcode 3       2.333781  ...       -0.759271       -0.204689        1.402447   \n",
       "barcode 4       1.318197  ...       -0.409691        1.363445       -0.772657   \n",
       "\n",
       "           gene_symbol 93  gene_symbol 94  gene_symbol 95  gene_symbol 96  \\\n",
       "barcodes                                                                    \n",
       "barcode 0        0.961223        0.406869        1.002873       -0.670653   \n",
       "barcode 1       -0.589662       -1.615216       -0.542598        0.689434   \n",
       "barcode 2        0.462508       -0.896641       -0.725573        0.157940   \n",
       "barcode 3       -0.877854        0.916562       -0.946905        0.661854   \n",
       "barcode 4        0.156357       -0.116396        0.323422        0.000019   \n",
       "\n",
       "           gene_symbol 97  gene_symbol 98  gene_symbol 99  \n",
       "barcodes                                                   \n",
       "barcode 0        0.102878        0.153170       -0.048077  \n",
       "barcode 1       -0.318802        0.996157       -0.197688  \n",
       "barcode 2        0.812640       -1.503678        0.550671  \n",
       "barcode 3        1.676934        0.298044       -1.028242  \n",
       "barcode 4        0.673207        0.118049       -0.205185  \n",
       "\n",
       "[5 rows x 104 columns]"
      ]
     },
     "execution_count": 9,
     "metadata": {},
     "output_type": "execute_result"
    }
   ],
   "source": [
    "df_all = df_p.join(df_s)\n",
    "df_all.head()"
   ]
  },
  {
   "attachments": {},
   "cell_type": "markdown",
   "metadata": {},
   "source": [
    "### QuadFeatherRenamer\n",
    "\n",
    "Note: `quadfeather` and `deepscatter` are both under active development so things change all the time. At the moment `quadfeather` requires that `x` and `y` be in your DataFrame (it doesn't mind if `z` is there too). So this will handle the renaming of our columns."
   ]
  },
  {
   "cell_type": "code",
   "execution_count": 10,
   "metadata": {},
   "outputs": [],
   "source": [
    "qfr = QuadFeatherRenamer(df_all)"
   ]
  },
  {
   "cell_type": "code",
   "execution_count": 11,
   "metadata": {},
   "outputs": [
    {
     "data": {
      "text/plain": [
       "{'MOCK_0': 'x', 'MOCK_1': 'y', 'MOCK_2': 'z'}"
      ]
     },
     "execution_count": 11,
     "metadata": {},
     "output_type": "execute_result"
    }
   ],
   "source": [
    "df_q, renamed = qfr.rename()\n",
    "renamed"
   ]
  },
  {
   "attachments": {},
   "cell_type": "markdown",
   "metadata": {},
   "source": [
    "### DataFrameToMetadata\n",
    " \n",
    "`Deepscatter` is a really nice library; however, it also prefers to have its `plotAPI` method called with as much information as possible. This is a bit of a shame as it means that one you load your data with `deepscatter` you can't compute derived properties (e.g. domain of your data to scale the plot, check for what sidecars are availble, etc). \n",
    "\n",
    "The solution to this is simple. In order to have this information availble to us, we will just calculate it now (including which columns were renamed) and store it as metadata to use later"
   ]
  },
  {
   "cell_type": "code",
   "execution_count": 36,
   "metadata": {},
   "outputs": [],
   "source": [
    "d2m = DataFrameToMetadata(\n",
    "    df_q, \n",
    "    include_index=True,\n",
    "    embedding='x y z conditions'.split(),\n",
    "    alt_names={v:k for k,v in renamed.items()}\n",
    ")"
   ]
  },
  {
   "cell_type": "code",
   "execution_count": 37,
   "metadata": {},
   "outputs": [
    {
     "data": {
      "text/plain": [
       "(105, 0)"
      ]
     },
     "execution_count": 37,
     "metadata": {},
     "output_type": "execute_result"
    }
   ],
   "source": [
    "succ, fail = d2m.convert()\n",
    "len(succ), len(fail)"
   ]
  },
  {
   "cell_type": "code",
   "execution_count": 38,
   "metadata": {},
   "outputs": [],
   "source": [
    "meta = d2m.to_meta()"
   ]
  },
  {
   "attachments": {},
   "cell_type": "markdown",
   "metadata": {},
   "source": [
    "## Quadfeather Workflow"
   ]
  },
  {
   "attachments": {},
   "cell_type": "markdown",
   "metadata": {},
   "source": [
    "Now we can now run through thte `quadfeather` workflow right here in the notebook."
   ]
  },
  {
   "attachments": {},
   "cell_type": "markdown",
   "metadata": {},
   "source": [
    "### 0) setup"
   ]
  },
  {
   "cell_type": "code",
   "execution_count": 39,
   "metadata": {},
   "outputs": [],
   "source": [
    "# dump everything to downloads for easy access\n",
    "outdir = os.path.expanduser('~/Downloads/featherplot')\n",
    "qf_dir = os.path.join(outdir, 'tiles')\n",
    "if not os.path.isdir(qf_dir):\n",
    "    os.makedirs(qf_dir)\n",
    "\n",
    "\n",
    "p_file = os.path.join(outdir, 'points.parquet')\n",
    "# NOTE: we never use s_file\n",
    "# s_file = os.path.join(outdir, 'extras.parquet')\n",
    "f_file = os.path.join(qf_dir, 'sidecars.feather')\n",
    "m_file = os.path.join(outdir, 'meta.yml')\n",
    "\n",
    "\n",
    "tile_size = 1000"
   ]
  },
  {
   "attachments": {},
   "cell_type": "markdown",
   "metadata": {},
   "source": [
    "### 1) create tiles"
   ]
  },
  {
   "cell_type": "code",
   "execution_count": 40,
   "metadata": {},
   "outputs": [],
   "source": [
    "d2m.df.drop(columns=df_s.columns).to_parquet(p_file)\n",
    "# d2m.df.drop(columns=d2m.embedding).to_parquet(s_file)"
   ]
  },
  {
   "cell_type": "code",
   "execution_count": 41,
   "metadata": {},
   "outputs": [],
   "source": [
    "!quadfeather --files {p_file} \\\n",
    "             --tile_size {tile_size} \\\n",
    "             --destination {qf_dir}"
   ]
  },
  {
   "attachments": {},
   "cell_type": "markdown",
   "metadata": {},
   "source": [
    "### 2) make single file"
   ]
  },
  {
   "cell_type": "code",
   "execution_count": 42,
   "metadata": {},
   "outputs": [],
   "source": [
    "feather.write_feather(d2m.df.drop(columns=d2m.embedding), f_file)"
   ]
  },
  {
   "attachments": {},
   "cell_type": "markdown",
   "metadata": {},
   "source": [
    "### 3) run `add_sidecars.py`"
   ]
  },
  {
   "cell_type": "code",
   "execution_count": 43,
   "metadata": {},
   "outputs": [],
   "source": [
    "tileset = Tileset(Path(qf_dir))\n",
    "tileset.add_sidecars(f_file, d2m.df.index.name)"
   ]
  },
  {
   "attachments": {},
   "cell_type": "markdown",
   "metadata": {},
   "source": [
    "note we copied `add_sidecars.py` so you can use it directly from this library"
   ]
  },
  {
   "cell_type": "code",
   "execution_count": 44,
   "metadata": {},
   "outputs": [],
   "source": [
    "!featherplot add-sidecars --tileset {qf_dir}\\\n",
    "                         --sidecar {f_file} --key {d2m.df.index.name};"
   ]
  },
  {
   "attachments": {},
   "cell_type": "markdown",
   "metadata": {},
   "source": [
    "```sh\n",
    "featherplot-py featherplot add-sidecars --help\n",
    "\n",
    "Usage: featherplot add-sidecars \n",
    "[OPTIONS]\n",
    "--tileset          PATH  Path to the tileset to add sidecars to.\n",
    "--sidecar          PATH  Path to the new data to add to the tileset.\n",
    "--key              TEXT  key to use for joining; must exist in both tables\n",
    "--verbose  -v            Print verbose output.\n",
    "--help                   Show this message and exit.\n",
    "```"
   ]
  },
  {
   "attachments": {},
   "cell_type": "markdown",
   "metadata": {},
   "source": [
    "alternatively you can run the script form wherever you saved it"
   ]
  },
  {
   "cell_type": "code",
   "execution_count": null,
   "metadata": {},
   "outputs": [],
   "source": [
    "!python3 add_sidecars.py --tileset {qf_dir}\\\n",
    "                         --sidecar {f_file} --key {d2m.df.index.name};"
   ]
  },
  {
   "attachments": {},
   "cell_type": "markdown",
   "metadata": {},
   "source": [
    "### 4) update metadata with directo"
   ]
  },
  {
   "cell_type": "code",
   "execution_count": 45,
   "metadata": {},
   "outputs": [
    {
     "data": {
      "text/plain": [
       "dict_keys(['index', 'n_points', 'embedding', 'sidecars', 'columns_metadata', 'tiles_dir'])"
      ]
     },
     "execution_count": 45,
     "metadata": {},
     "output_type": "execute_result"
    }
   ],
   "source": [
    "meta.keys()"
   ]
  },
  {
   "cell_type": "code",
   "execution_count": 46,
   "metadata": {},
   "outputs": [],
   "source": [
    "# relative path to tiles\n",
    "meta['tiles_dir'] = qf_dir.replace(outdir, '')\n",
    "# full path to tiles\n",
    "meta['full_path'] = collapse_user(qf_dir)"
   ]
  },
  {
   "cell_type": "code",
   "execution_count": 47,
   "metadata": {},
   "outputs": [],
   "source": [
    "with open(m_file, 'w') as f:\n",
    "    f.write(yaml.dump(meta))"
   ]
  },
  {
   "attachments": {},
   "cell_type": "markdown",
   "metadata": {},
   "source": [
    "### 5) cleanup"
   ]
  },
  {
   "cell_type": "code",
   "execution_count": null,
   "metadata": {},
   "outputs": [],
   "source": []
  }
 ],
 "metadata": {
  "kernelspec": {
   "display_name": "featherplot",
   "language": "python",
   "name": "python3"
  },
  "language_info": {
   "codemirror_mode": {
    "name": "ipython",
    "version": 3
   },
   "file_extension": ".py",
   "mimetype": "text/x-python",
   "name": "python",
   "nbconvert_exporter": "python",
   "pygments_lexer": "ipython3",
   "version": "3.11.4"
  },
  "orig_nbformat": 4
 },
 "nbformat": 4,
 "nbformat_minor": 2
}
