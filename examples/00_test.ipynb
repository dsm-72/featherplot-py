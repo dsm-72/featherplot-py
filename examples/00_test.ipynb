{
 "cells": [
  {
   "cell_type": "code",
   "execution_count": 1,
   "metadata": {},
   "outputs": [],
   "source": [
    "%load_ext autoreload\n",
    "%autoreload 2"
   ]
  },
  {
   "cell_type": "code",
   "execution_count": 2,
   "metadata": {},
   "outputs": [],
   "source": [
    "# standard lib\n",
    "import os, pwd, sys, json, yaml, atexit, tempfile, inspect\n",
    "from pathlib import Path\n",
    "\n",
    "# for data-science\n",
    "import pandas as pd, numpy as np, quadfeather\n",
    "from pyarrow import feather\n",
    "\n",
    "# for plotting\n",
    "import matplotlib as mpl, matplotlib.pyplot as plt, seaborn as sns\n",
    "\n",
    "# for cellular-data\n",
    "import scprep, scanpy as sc, anndata as ad"
   ]
  },
  {
   "cell_type": "code",
   "execution_count": 3,
   "metadata": {},
   "outputs": [],
   "source": [
    "from featherplot.utils import MockSingleCellData, AnnDataProcessor, QuadFeatherRenamer\n",
    "from featherplot.utils import SeriesToChannel, DataFrameToMetadata"
   ]
  },
  {
   "cell_type": "code",
   "execution_count": 4,
   "metadata": {},
   "outputs": [],
   "source": [
    "mocker = MockSingleCellData()\n",
    "adata = mocker.adata"
   ]
  },
  {
   "cell_type": "code",
   "execution_count": 5,
   "metadata": {},
   "outputs": [
    {
     "data": {
      "text/plain": [
       "AnnData object with n_obs × n_vars = 1000 × 100\n",
       "    obs: 'barcodes', 'conditions'\n",
       "    var: 'is_hvg'\n",
       "    obsm: 'X_mock'\n",
       "    layers: 'X_norm'"
      ]
     },
     "execution_count": 5,
     "metadata": {},
     "output_type": "execute_result"
    }
   ],
   "source": [
    "adata"
   ]
  },
  {
   "attachments": {},
   "cell_type": "markdown",
   "metadata": {},
   "source": [
    "### Create Processor\n",
    "> this will help us extract the embedding layer and the gene expression layer"
   ]
  },
  {
   "cell_type": "code",
   "execution_count": 6,
   "metadata": {},
   "outputs": [],
   "source": [
    "pipe = AnnDataProcessor(adata, 'X_mock', 'X_norm')"
   ]
  },
  {
   "attachments": {},
   "cell_type": "markdown",
   "metadata": {},
   "source": [
    "#### sidecars\n",
    "\n",
    "Deepscatter calls additional columns `sidecars`, in our case those are the columns of gene expression. We place these values in `df_s`."
   ]
  },
  {
   "cell_type": "code",
   "execution_count": 7,
   "metadata": {},
   "outputs": [
    {
     "data": {
      "text/html": [
       "<div>\n",
       "<style scoped>\n",
       "    .dataframe tbody tr th:only-of-type {\n",
       "        vertical-align: middle;\n",
       "    }\n",
       "\n",
       "    .dataframe tbody tr th {\n",
       "        vertical-align: top;\n",
       "    }\n",
       "\n",
       "    .dataframe thead th {\n",
       "        text-align: right;\n",
       "    }\n",
       "</style>\n",
       "<table border=\"1\" class=\"dataframe\">\n",
       "  <thead>\n",
       "    <tr style=\"text-align: right;\">\n",
       "      <th>gene_symbols</th>\n",
       "      <th>gene_symbol 0</th>\n",
       "      <th>gene_symbol 1</th>\n",
       "      <th>gene_symbol 2</th>\n",
       "      <th>gene_symbol 3</th>\n",
       "      <th>gene_symbol 4</th>\n",
       "      <th>gene_symbol 5</th>\n",
       "      <th>gene_symbol 6</th>\n",
       "      <th>gene_symbol 7</th>\n",
       "      <th>gene_symbol 8</th>\n",
       "      <th>gene_symbol 9</th>\n",
       "      <th>...</th>\n",
       "      <th>gene_symbol 90</th>\n",
       "      <th>gene_symbol 91</th>\n",
       "      <th>gene_symbol 92</th>\n",
       "      <th>gene_symbol 93</th>\n",
       "      <th>gene_symbol 94</th>\n",
       "      <th>gene_symbol 95</th>\n",
       "      <th>gene_symbol 96</th>\n",
       "      <th>gene_symbol 97</th>\n",
       "      <th>gene_symbol 98</th>\n",
       "      <th>gene_symbol 99</th>\n",
       "    </tr>\n",
       "    <tr>\n",
       "      <th>barcodes</th>\n",
       "      <th></th>\n",
       "      <th></th>\n",
       "      <th></th>\n",
       "      <th></th>\n",
       "      <th></th>\n",
       "      <th></th>\n",
       "      <th></th>\n",
       "      <th></th>\n",
       "      <th></th>\n",
       "      <th></th>\n",
       "      <th></th>\n",
       "      <th></th>\n",
       "      <th></th>\n",
       "      <th></th>\n",
       "      <th></th>\n",
       "      <th></th>\n",
       "      <th></th>\n",
       "      <th></th>\n",
       "      <th></th>\n",
       "      <th></th>\n",
       "      <th></th>\n",
       "    </tr>\n",
       "  </thead>\n",
       "  <tbody>\n",
       "    <tr>\n",
       "      <th>barcode 0</th>\n",
       "      <td>0.647239</td>\n",
       "      <td>0.086998</td>\n",
       "      <td>-0.154814</td>\n",
       "      <td>-1.654152</td>\n",
       "      <td>-1.685163</td>\n",
       "      <td>0.105083</td>\n",
       "      <td>-0.844099</td>\n",
       "      <td>-0.896430</td>\n",
       "      <td>-0.323254</td>\n",
       "      <td>-0.533175</td>\n",
       "      <td>...</td>\n",
       "      <td>0.916992</td>\n",
       "      <td>1.529056</td>\n",
       "      <td>-0.587797</td>\n",
       "      <td>-0.947348</td>\n",
       "      <td>0.151334</td>\n",
       "      <td>0.052068</td>\n",
       "      <td>0.688556</td>\n",
       "      <td>1.029177</td>\n",
       "      <td>-0.275412</td>\n",
       "      <td>2.362747</td>\n",
       "    </tr>\n",
       "    <tr>\n",
       "      <th>barcode 1</th>\n",
       "      <td>1.404417</td>\n",
       "      <td>0.137621</td>\n",
       "      <td>1.675856</td>\n",
       "      <td>-0.104808</td>\n",
       "      <td>1.076974</td>\n",
       "      <td>-0.707360</td>\n",
       "      <td>-0.112802</td>\n",
       "      <td>1.591732</td>\n",
       "      <td>-1.140162</td>\n",
       "      <td>0.888240</td>\n",
       "      <td>...</td>\n",
       "      <td>-0.069031</td>\n",
       "      <td>-1.743513</td>\n",
       "      <td>1.011159</td>\n",
       "      <td>1.468735</td>\n",
       "      <td>0.492341</td>\n",
       "      <td>1.107176</td>\n",
       "      <td>0.589416</td>\n",
       "      <td>1.465082</td>\n",
       "      <td>1.530432</td>\n",
       "      <td>-0.479527</td>\n",
       "    </tr>\n",
       "    <tr>\n",
       "      <th>barcode 2</th>\n",
       "      <td>-1.060918</td>\n",
       "      <td>0.236627</td>\n",
       "      <td>0.077683</td>\n",
       "      <td>1.249768</td>\n",
       "      <td>0.737647</td>\n",
       "      <td>1.218718</td>\n",
       "      <td>1.024711</td>\n",
       "      <td>-0.675470</td>\n",
       "      <td>2.130783</td>\n",
       "      <td>-1.216797</td>\n",
       "      <td>...</td>\n",
       "      <td>-1.449032</td>\n",
       "      <td>-1.151383</td>\n",
       "      <td>-1.106516</td>\n",
       "      <td>-0.583469</td>\n",
       "      <td>1.075358</td>\n",
       "      <td>-0.314728</td>\n",
       "      <td>-0.191897</td>\n",
       "      <td>-0.159697</td>\n",
       "      <td>-1.726697</td>\n",
       "      <td>-0.521543</td>\n",
       "    </tr>\n",
       "    <tr>\n",
       "      <th>barcode 3</th>\n",
       "      <td>1.448654</td>\n",
       "      <td>-1.494581</td>\n",
       "      <td>0.223879</td>\n",
       "      <td>2.088154</td>\n",
       "      <td>1.116556</td>\n",
       "      <td>0.727096</td>\n",
       "      <td>1.298132</td>\n",
       "      <td>-0.310056</td>\n",
       "      <td>-0.362844</td>\n",
       "      <td>-1.115445</td>\n",
       "      <td>...</td>\n",
       "      <td>-0.463154</td>\n",
       "      <td>-2.504597</td>\n",
       "      <td>0.611575</td>\n",
       "      <td>0.509425</td>\n",
       "      <td>0.579520</td>\n",
       "      <td>1.007162</td>\n",
       "      <td>0.191839</td>\n",
       "      <td>-0.782431</td>\n",
       "      <td>1.152722</td>\n",
       "      <td>-0.741739</td>\n",
       "    </tr>\n",
       "    <tr>\n",
       "      <th>barcode 4</th>\n",
       "      <td>-0.369716</td>\n",
       "      <td>1.675644</td>\n",
       "      <td>-0.657181</td>\n",
       "      <td>-1.543317</td>\n",
       "      <td>1.660483</td>\n",
       "      <td>-0.371225</td>\n",
       "      <td>-0.303722</td>\n",
       "      <td>0.795800</td>\n",
       "      <td>0.496244</td>\n",
       "      <td>0.178755</td>\n",
       "      <td>...</td>\n",
       "      <td>0.785304</td>\n",
       "      <td>-0.317869</td>\n",
       "      <td>-0.804447</td>\n",
       "      <td>0.890166</td>\n",
       "      <td>1.153516</td>\n",
       "      <td>2.804246</td>\n",
       "      <td>-0.314702</td>\n",
       "      <td>0.053635</td>\n",
       "      <td>0.896291</td>\n",
       "      <td>-0.340139</td>\n",
       "    </tr>\n",
       "  </tbody>\n",
       "</table>\n",
       "<p>5 rows × 100 columns</p>\n",
       "</div>"
      ],
      "text/plain": [
       "gene_symbols  gene_symbol 0  gene_symbol 1  gene_symbol 2  gene_symbol 3  \\\n",
       "barcodes                                                                   \n",
       "barcode 0          0.647239       0.086998      -0.154814      -1.654152   \n",
       "barcode 1          1.404417       0.137621       1.675856      -0.104808   \n",
       "barcode 2         -1.060918       0.236627       0.077683       1.249768   \n",
       "barcode 3          1.448654      -1.494581       0.223879       2.088154   \n",
       "barcode 4         -0.369716       1.675644      -0.657181      -1.543317   \n",
       "\n",
       "gene_symbols  gene_symbol 4  gene_symbol 5  gene_symbol 6  gene_symbol 7  \\\n",
       "barcodes                                                                   \n",
       "barcode 0         -1.685163       0.105083      -0.844099      -0.896430   \n",
       "barcode 1          1.076974      -0.707360      -0.112802       1.591732   \n",
       "barcode 2          0.737647       1.218718       1.024711      -0.675470   \n",
       "barcode 3          1.116556       0.727096       1.298132      -0.310056   \n",
       "barcode 4          1.660483      -0.371225      -0.303722       0.795800   \n",
       "\n",
       "gene_symbols  gene_symbol 8  gene_symbol 9  ...  gene_symbol 90  \\\n",
       "barcodes                                    ...                   \n",
       "barcode 0         -0.323254      -0.533175  ...        0.916992   \n",
       "barcode 1         -1.140162       0.888240  ...       -0.069031   \n",
       "barcode 2          2.130783      -1.216797  ...       -1.449032   \n",
       "barcode 3         -0.362844      -1.115445  ...       -0.463154   \n",
       "barcode 4          0.496244       0.178755  ...        0.785304   \n",
       "\n",
       "gene_symbols  gene_symbol 91  gene_symbol 92  gene_symbol 93  gene_symbol 94  \\\n",
       "barcodes                                                                       \n",
       "barcode 0           1.529056       -0.587797       -0.947348        0.151334   \n",
       "barcode 1          -1.743513        1.011159        1.468735        0.492341   \n",
       "barcode 2          -1.151383       -1.106516       -0.583469        1.075358   \n",
       "barcode 3          -2.504597        0.611575        0.509425        0.579520   \n",
       "barcode 4          -0.317869       -0.804447        0.890166        1.153516   \n",
       "\n",
       "gene_symbols  gene_symbol 95  gene_symbol 96  gene_symbol 97  gene_symbol 98  \\\n",
       "barcodes                                                                       \n",
       "barcode 0           0.052068        0.688556        1.029177       -0.275412   \n",
       "barcode 1           1.107176        0.589416        1.465082        1.530432   \n",
       "barcode 2          -0.314728       -0.191897       -0.159697       -1.726697   \n",
       "barcode 3           1.007162        0.191839       -0.782431        1.152722   \n",
       "barcode 4           2.804246       -0.314702        0.053635        0.896291   \n",
       "\n",
       "gene_symbols  gene_symbol 99  \n",
       "barcodes                      \n",
       "barcode 0           2.362747  \n",
       "barcode 1          -0.479527  \n",
       "barcode 2          -0.521543  \n",
       "barcode 3          -0.741739  \n",
       "barcode 4          -0.340139  \n",
       "\n",
       "[5 rows x 100 columns]"
      ]
     },
     "execution_count": 7,
     "metadata": {},
     "output_type": "execute_result"
    }
   ],
   "source": [
    "df_s = pipe.get_sidecars()\n",
    "df_s.head()"
   ]
  },
  {
   "attachments": {},
   "cell_type": "markdown",
   "metadata": {},
   "source": [
    "#### points\n",
    "\n",
    "If our gene expression features are called `sidecars`, then what is the embedding layer called? Well it is just the \"points\" of the plot, so we will store these values in `df_p`.\n",
    "\n",
    "**NOTE**: we also store conditions with `df_p` as whatever is in this DataFrame will be loaded by `Deepscatter` automatically. "
   ]
  },
  {
   "cell_type": "code",
   "execution_count": 8,
   "metadata": {},
   "outputs": [
    {
     "data": {
      "text/html": [
       "<div>\n",
       "<style scoped>\n",
       "    .dataframe tbody tr th:only-of-type {\n",
       "        vertical-align: middle;\n",
       "    }\n",
       "\n",
       "    .dataframe tbody tr th {\n",
       "        vertical-align: top;\n",
       "    }\n",
       "\n",
       "    .dataframe thead th {\n",
       "        text-align: right;\n",
       "    }\n",
       "</style>\n",
       "<table border=\"1\" class=\"dataframe\">\n",
       "  <thead>\n",
       "    <tr style=\"text-align: right;\">\n",
       "      <th></th>\n",
       "      <th>MOCK_0</th>\n",
       "      <th>MOCK_1</th>\n",
       "      <th>MOCK_2</th>\n",
       "      <th>conditions</th>\n",
       "    </tr>\n",
       "    <tr>\n",
       "      <th>barcodes</th>\n",
       "      <th></th>\n",
       "      <th></th>\n",
       "      <th></th>\n",
       "      <th></th>\n",
       "    </tr>\n",
       "  </thead>\n",
       "  <tbody>\n",
       "    <tr>\n",
       "      <th>barcode 0</th>\n",
       "      <td>-1.752125</td>\n",
       "      <td>0.279810</td>\n",
       "      <td>-1.627978</td>\n",
       "      <td>condition 0</td>\n",
       "    </tr>\n",
       "    <tr>\n",
       "      <th>barcode 1</th>\n",
       "      <td>-0.423364</td>\n",
       "      <td>-0.658018</td>\n",
       "      <td>-1.544936</td>\n",
       "      <td>condition 1</td>\n",
       "    </tr>\n",
       "    <tr>\n",
       "      <th>barcode 2</th>\n",
       "      <td>-2.045956</td>\n",
       "      <td>1.201831</td>\n",
       "      <td>0.486148</td>\n",
       "      <td>condition 2</td>\n",
       "    </tr>\n",
       "    <tr>\n",
       "      <th>barcode 3</th>\n",
       "      <td>0.444498</td>\n",
       "      <td>0.439598</td>\n",
       "      <td>1.582178</td>\n",
       "      <td>condition 3</td>\n",
       "    </tr>\n",
       "    <tr>\n",
       "      <th>barcode 4</th>\n",
       "      <td>-1.920090</td>\n",
       "      <td>-1.453035</td>\n",
       "      <td>0.247593</td>\n",
       "      <td>condition 0</td>\n",
       "    </tr>\n",
       "  </tbody>\n",
       "</table>\n",
       "</div>"
      ],
      "text/plain": [
       "             MOCK_0    MOCK_1    MOCK_2   conditions\n",
       "barcodes                                            \n",
       "barcode 0 -1.752125  0.279810 -1.627978  condition 0\n",
       "barcode 1 -0.423364 -0.658018 -1.544936  condition 1\n",
       "barcode 2 -2.045956  1.201831  0.486148  condition 2\n",
       "barcode 3  0.444498  0.439598  1.582178  condition 3\n",
       "barcode 4 -1.920090 -1.453035  0.247593  condition 0"
      ]
     },
     "execution_count": 8,
     "metadata": {},
     "output_type": "execute_result"
    }
   ],
   "source": [
    "df_p = pipe.get_embedding()\n",
    "df_p = df_p.join(pipe.adata.obs.conditions)\n",
    "df_p.head()"
   ]
  },
  {
   "attachments": {},
   "cell_type": "markdown",
   "metadata": {},
   "source": [
    "#### Combined\n",
    "Now we combine `df_p` (points + condition) with `df_s` (\"sidecars\" i.e. gene expression). This is necessary as for script later on where we need to add the sidecars to already the `quadfeather`-ed (tiled) point data. "
   ]
  },
  {
   "cell_type": "code",
   "execution_count": 9,
   "metadata": {},
   "outputs": [
    {
     "data": {
      "text/html": [
       "<div>\n",
       "<style scoped>\n",
       "    .dataframe tbody tr th:only-of-type {\n",
       "        vertical-align: middle;\n",
       "    }\n",
       "\n",
       "    .dataframe tbody tr th {\n",
       "        vertical-align: top;\n",
       "    }\n",
       "\n",
       "    .dataframe thead th {\n",
       "        text-align: right;\n",
       "    }\n",
       "</style>\n",
       "<table border=\"1\" class=\"dataframe\">\n",
       "  <thead>\n",
       "    <tr style=\"text-align: right;\">\n",
       "      <th></th>\n",
       "      <th>MOCK_0</th>\n",
       "      <th>MOCK_1</th>\n",
       "      <th>MOCK_2</th>\n",
       "      <th>conditions</th>\n",
       "      <th>gene_symbol 0</th>\n",
       "      <th>gene_symbol 1</th>\n",
       "      <th>gene_symbol 2</th>\n",
       "      <th>gene_symbol 3</th>\n",
       "      <th>gene_symbol 4</th>\n",
       "      <th>gene_symbol 5</th>\n",
       "      <th>...</th>\n",
       "      <th>gene_symbol 90</th>\n",
       "      <th>gene_symbol 91</th>\n",
       "      <th>gene_symbol 92</th>\n",
       "      <th>gene_symbol 93</th>\n",
       "      <th>gene_symbol 94</th>\n",
       "      <th>gene_symbol 95</th>\n",
       "      <th>gene_symbol 96</th>\n",
       "      <th>gene_symbol 97</th>\n",
       "      <th>gene_symbol 98</th>\n",
       "      <th>gene_symbol 99</th>\n",
       "    </tr>\n",
       "    <tr>\n",
       "      <th>barcodes</th>\n",
       "      <th></th>\n",
       "      <th></th>\n",
       "      <th></th>\n",
       "      <th></th>\n",
       "      <th></th>\n",
       "      <th></th>\n",
       "      <th></th>\n",
       "      <th></th>\n",
       "      <th></th>\n",
       "      <th></th>\n",
       "      <th></th>\n",
       "      <th></th>\n",
       "      <th></th>\n",
       "      <th></th>\n",
       "      <th></th>\n",
       "      <th></th>\n",
       "      <th></th>\n",
       "      <th></th>\n",
       "      <th></th>\n",
       "      <th></th>\n",
       "      <th></th>\n",
       "    </tr>\n",
       "  </thead>\n",
       "  <tbody>\n",
       "    <tr>\n",
       "      <th>barcode 0</th>\n",
       "      <td>-1.752125</td>\n",
       "      <td>0.279810</td>\n",
       "      <td>-1.627978</td>\n",
       "      <td>condition 0</td>\n",
       "      <td>0.647239</td>\n",
       "      <td>0.086998</td>\n",
       "      <td>-0.154814</td>\n",
       "      <td>-1.654152</td>\n",
       "      <td>-1.685163</td>\n",
       "      <td>0.105083</td>\n",
       "      <td>...</td>\n",
       "      <td>0.916992</td>\n",
       "      <td>1.529056</td>\n",
       "      <td>-0.587797</td>\n",
       "      <td>-0.947348</td>\n",
       "      <td>0.151334</td>\n",
       "      <td>0.052068</td>\n",
       "      <td>0.688556</td>\n",
       "      <td>1.029177</td>\n",
       "      <td>-0.275412</td>\n",
       "      <td>2.362747</td>\n",
       "    </tr>\n",
       "    <tr>\n",
       "      <th>barcode 1</th>\n",
       "      <td>-0.423364</td>\n",
       "      <td>-0.658018</td>\n",
       "      <td>-1.544936</td>\n",
       "      <td>condition 1</td>\n",
       "      <td>1.404417</td>\n",
       "      <td>0.137621</td>\n",
       "      <td>1.675856</td>\n",
       "      <td>-0.104808</td>\n",
       "      <td>1.076974</td>\n",
       "      <td>-0.707360</td>\n",
       "      <td>...</td>\n",
       "      <td>-0.069031</td>\n",
       "      <td>-1.743513</td>\n",
       "      <td>1.011159</td>\n",
       "      <td>1.468735</td>\n",
       "      <td>0.492341</td>\n",
       "      <td>1.107176</td>\n",
       "      <td>0.589416</td>\n",
       "      <td>1.465082</td>\n",
       "      <td>1.530432</td>\n",
       "      <td>-0.479527</td>\n",
       "    </tr>\n",
       "    <tr>\n",
       "      <th>barcode 2</th>\n",
       "      <td>-2.045956</td>\n",
       "      <td>1.201831</td>\n",
       "      <td>0.486148</td>\n",
       "      <td>condition 2</td>\n",
       "      <td>-1.060918</td>\n",
       "      <td>0.236627</td>\n",
       "      <td>0.077683</td>\n",
       "      <td>1.249768</td>\n",
       "      <td>0.737647</td>\n",
       "      <td>1.218718</td>\n",
       "      <td>...</td>\n",
       "      <td>-1.449032</td>\n",
       "      <td>-1.151383</td>\n",
       "      <td>-1.106516</td>\n",
       "      <td>-0.583469</td>\n",
       "      <td>1.075358</td>\n",
       "      <td>-0.314728</td>\n",
       "      <td>-0.191897</td>\n",
       "      <td>-0.159697</td>\n",
       "      <td>-1.726697</td>\n",
       "      <td>-0.521543</td>\n",
       "    </tr>\n",
       "    <tr>\n",
       "      <th>barcode 3</th>\n",
       "      <td>0.444498</td>\n",
       "      <td>0.439598</td>\n",
       "      <td>1.582178</td>\n",
       "      <td>condition 3</td>\n",
       "      <td>1.448654</td>\n",
       "      <td>-1.494581</td>\n",
       "      <td>0.223879</td>\n",
       "      <td>2.088154</td>\n",
       "      <td>1.116556</td>\n",
       "      <td>0.727096</td>\n",
       "      <td>...</td>\n",
       "      <td>-0.463154</td>\n",
       "      <td>-2.504597</td>\n",
       "      <td>0.611575</td>\n",
       "      <td>0.509425</td>\n",
       "      <td>0.579520</td>\n",
       "      <td>1.007162</td>\n",
       "      <td>0.191839</td>\n",
       "      <td>-0.782431</td>\n",
       "      <td>1.152722</td>\n",
       "      <td>-0.741739</td>\n",
       "    </tr>\n",
       "    <tr>\n",
       "      <th>barcode 4</th>\n",
       "      <td>-1.920090</td>\n",
       "      <td>-1.453035</td>\n",
       "      <td>0.247593</td>\n",
       "      <td>condition 0</td>\n",
       "      <td>-0.369716</td>\n",
       "      <td>1.675644</td>\n",
       "      <td>-0.657181</td>\n",
       "      <td>-1.543317</td>\n",
       "      <td>1.660483</td>\n",
       "      <td>-0.371225</td>\n",
       "      <td>...</td>\n",
       "      <td>0.785304</td>\n",
       "      <td>-0.317869</td>\n",
       "      <td>-0.804447</td>\n",
       "      <td>0.890166</td>\n",
       "      <td>1.153516</td>\n",
       "      <td>2.804246</td>\n",
       "      <td>-0.314702</td>\n",
       "      <td>0.053635</td>\n",
       "      <td>0.896291</td>\n",
       "      <td>-0.340139</td>\n",
       "    </tr>\n",
       "  </tbody>\n",
       "</table>\n",
       "<p>5 rows × 104 columns</p>\n",
       "</div>"
      ],
      "text/plain": [
       "             MOCK_0    MOCK_1    MOCK_2   conditions  gene_symbol 0  \\\n",
       "barcodes                                                              \n",
       "barcode 0 -1.752125  0.279810 -1.627978  condition 0       0.647239   \n",
       "barcode 1 -0.423364 -0.658018 -1.544936  condition 1       1.404417   \n",
       "barcode 2 -2.045956  1.201831  0.486148  condition 2      -1.060918   \n",
       "barcode 3  0.444498  0.439598  1.582178  condition 3       1.448654   \n",
       "barcode 4 -1.920090 -1.453035  0.247593  condition 0      -0.369716   \n",
       "\n",
       "           gene_symbol 1  gene_symbol 2  gene_symbol 3  gene_symbol 4  \\\n",
       "barcodes                                                                \n",
       "barcode 0       0.086998      -0.154814      -1.654152      -1.685163   \n",
       "barcode 1       0.137621       1.675856      -0.104808       1.076974   \n",
       "barcode 2       0.236627       0.077683       1.249768       0.737647   \n",
       "barcode 3      -1.494581       0.223879       2.088154       1.116556   \n",
       "barcode 4       1.675644      -0.657181      -1.543317       1.660483   \n",
       "\n",
       "           gene_symbol 5  ...  gene_symbol 90  gene_symbol 91  gene_symbol 92  \\\n",
       "barcodes                  ...                                                   \n",
       "barcode 0       0.105083  ...        0.916992        1.529056       -0.587797   \n",
       "barcode 1      -0.707360  ...       -0.069031       -1.743513        1.011159   \n",
       "barcode 2       1.218718  ...       -1.449032       -1.151383       -1.106516   \n",
       "barcode 3       0.727096  ...       -0.463154       -2.504597        0.611575   \n",
       "barcode 4      -0.371225  ...        0.785304       -0.317869       -0.804447   \n",
       "\n",
       "           gene_symbol 93  gene_symbol 94  gene_symbol 95  gene_symbol 96  \\\n",
       "barcodes                                                                    \n",
       "barcode 0       -0.947348        0.151334        0.052068        0.688556   \n",
       "barcode 1        1.468735        0.492341        1.107176        0.589416   \n",
       "barcode 2       -0.583469        1.075358       -0.314728       -0.191897   \n",
       "barcode 3        0.509425        0.579520        1.007162        0.191839   \n",
       "barcode 4        0.890166        1.153516        2.804246       -0.314702   \n",
       "\n",
       "           gene_symbol 97  gene_symbol 98  gene_symbol 99  \n",
       "barcodes                                                   \n",
       "barcode 0        1.029177       -0.275412        2.362747  \n",
       "barcode 1        1.465082        1.530432       -0.479527  \n",
       "barcode 2       -0.159697       -1.726697       -0.521543  \n",
       "barcode 3       -0.782431        1.152722       -0.741739  \n",
       "barcode 4        0.053635        0.896291       -0.340139  \n",
       "\n",
       "[5 rows x 104 columns]"
      ]
     },
     "execution_count": 9,
     "metadata": {},
     "output_type": "execute_result"
    }
   ],
   "source": [
    "df_all = df_p.join(df_s)\n",
    "df_all.head()"
   ]
  },
  {
   "attachments": {},
   "cell_type": "markdown",
   "metadata": {},
   "source": [
    "### QuadFeatherRenamer\n",
    "\n",
    "Note: `quadfeather` and `deepscatter` are both under active development so things change all the time. At the moment `quadfeather` requires that `x` and `y` be in your DataFrame (it doesn't mind if `z` is there too). So this will handle the renaming of our columns."
   ]
  },
  {
   "cell_type": "code",
   "execution_count": 10,
   "metadata": {},
   "outputs": [],
   "source": [
    "qfr = QuadFeatherRenamer(df_all)"
   ]
  },
  {
   "cell_type": "code",
   "execution_count": 11,
   "metadata": {},
   "outputs": [
    {
     "data": {
      "text/plain": [
       "{'MOCK_0': 'x', 'MOCK_1': 'y', 'MOCK_2': 'z'}"
      ]
     },
     "execution_count": 11,
     "metadata": {},
     "output_type": "execute_result"
    }
   ],
   "source": [
    "df_q, renamed = qfr.rename()\n",
    "renamed"
   ]
  },
  {
   "attachments": {},
   "cell_type": "markdown",
   "metadata": {},
   "source": [
    "### DataFrameToMetadata\n",
    " \n",
    "`Deepscatter` is a really nice library; however, it also prefers to have its `plotAPI` method called with as much information as possible. This is a bit of a shame as it means that one you load your data with `deepscatter` you can't compute derived properties (e.g. domain of your data to scale the plot, check for what sidecars are availble, etc). \n",
    "\n",
    "The solution to this is simple. In order to have this information availble to us, we will just calculate it now (including which columns were renamed) and store it as metadata to use later"
   ]
  },
  {
   "cell_type": "code",
   "execution_count": 12,
   "metadata": {},
   "outputs": [],
   "source": [
    "d2m = DataFrameToMetadata(\n",
    "    df_q, \n",
    "    include_index=True,\n",
    "    embedding='x y z conditions'.split(),\n",
    "    alt_names={v:k for k,v in renamed.items()}\n",
    ")"
   ]
  },
  {
   "cell_type": "code",
   "execution_count": 13,
   "metadata": {},
   "outputs": [
    {
     "data": {
      "text/plain": [
       "(105, 0)"
      ]
     },
     "execution_count": 13,
     "metadata": {},
     "output_type": "execute_result"
    }
   ],
   "source": [
    "succ, fail = d2m.convert()\n",
    "len(succ), len(fail)"
   ]
  },
  {
   "cell_type": "code",
   "execution_count": 14,
   "metadata": {},
   "outputs": [],
   "source": [
    "meta = d2m.to_meta()"
   ]
  },
  {
   "attachments": {},
   "cell_type": "markdown",
   "metadata": {},
   "source": [
    "## Quadfeather Workflow"
   ]
  },
  {
   "attachments": {},
   "cell_type": "markdown",
   "metadata": {},
   "source": [
    "Now we can now run through thte `quadfeather` workflow right here in the notebook."
   ]
  },
  {
   "attachments": {},
   "cell_type": "markdown",
   "metadata": {},
   "source": [
    "### 0) setup"
   ]
  },
  {
   "cell_type": "code",
   "execution_count": 25,
   "metadata": {},
   "outputs": [],
   "source": [
    "# dump everything to downloads for easy access\n",
    "outdir = os.path.expanduser('~/Downloads/featherplot')\n",
    "qf_dir = os.path.join(outdir, 'tiles')\n",
    "if not os.path.isdir(qf_dir):\n",
    "    os.makedirs(qf_dir)\n",
    "\n",
    "\n",
    "p_file = os.path.join(outdir, 'points.parquet')\n",
    "# NOTE: we never use s_file\n",
    "# s_file = os.path.join(outdir, 'extras.parquet')\n",
    "f_file = os.path.join(qf_dir, 'sidecars.feather')\n",
    "m_file = os.path.join(outdir, 'meta.yml')\n",
    "\n",
    "\n",
    "tile_size = 1000"
   ]
  },
  {
   "attachments": {},
   "cell_type": "markdown",
   "metadata": {},
   "source": [
    "### 1) create tiles"
   ]
  },
  {
   "cell_type": "code",
   "execution_count": 24,
   "metadata": {},
   "outputs": [],
   "source": [
    "d2m.df.drop(columns=df_s.columns).to_parquet(p_file)\n",
    "# d2m.df.drop(columns=d2m.embedding).to_parquet(s_file)"
   ]
  },
  {
   "cell_type": "code",
   "execution_count": 26,
   "metadata": {},
   "outputs": [],
   "source": [
    "!quadfeather --files {p_file} \\\n",
    "             --tile_size {tile_size} \\\n",
    "             --destination {qf_dir}"
   ]
  },
  {
   "attachments": {},
   "cell_type": "markdown",
   "metadata": {},
   "source": [
    "### 2) make single file"
   ]
  },
  {
   "cell_type": "code",
   "execution_count": 30,
   "metadata": {},
   "outputs": [],
   "source": [
    "feather.write_feather(d2m.df.drop(columns=d2m.embedding), f_file)"
   ]
  },
  {
   "attachments": {},
   "cell_type": "markdown",
   "metadata": {},
   "source": [
    "### 3) run `add_sidecars.py`"
   ]
  },
  {
   "cell_type": "code",
   "execution_count": 42,
   "metadata": {},
   "outputs": [],
   "source": [
    "from featherplot.utils import collapse_user\n",
    "from featherplot.deepscatter import Tileset"
   ]
  },
  {
   "cell_type": "code",
   "execution_count": null,
   "metadata": {},
   "outputs": [],
   "source": [
    "tileset = Tileset(Path(qf_dir))\n",
    "tileset.add_sidecars(f_file, d2m.df.index.name)"
   ]
  },
  {
   "attachments": {},
   "cell_type": "markdown",
   "metadata": {},
   "source": [
    "note we copied `add_sidecars.py` so you can use it directly from this library"
   ]
  },
  {
   "attachments": {},
   "cell_type": "markdown",
   "metadata": {},
   "source": [
    "```sh\n",
    "featherplot-py featherplot add-sidecars --help\n",
    "\n",
    "Usage: featherplot add-sidecars \n",
    "[OPTIONS]\n",
    "--tileset          PATH  Path to the tileset to add sidecars to.\n",
    "--sidecar          PATH  Path to the new data to add to the tileset.\n",
    "--key              TEXT  key to use for joining; must exist in both tables\n",
    "--verbose  -v            Print verbose output.\n",
    "--help                   Show this message and exit.\n",
    "```"
   ]
  },
  {
   "attachments": {},
   "cell_type": "markdown",
   "metadata": {},
   "source": [
    "alternatively you can run the script form wherever you saved it"
   ]
  },
  {
   "cell_type": "code",
   "execution_count": null,
   "metadata": {},
   "outputs": [],
   "source": [
    "!python3 add_sidecars.py --tileset {qf_dir}\\\n",
    "                         --sidecar {f_file} --key {d2m.df.index.name};"
   ]
  },
  {
   "attachments": {},
   "cell_type": "markdown",
   "metadata": {},
   "source": [
    "### 4) update metadata with directo"
   ]
  },
  {
   "cell_type": "code",
   "execution_count": 41,
   "metadata": {},
   "outputs": [
    {
     "data": {
      "text/plain": [
       "dict_keys(['index', 'n_points', 'embedding', 'sidecars', 'columns_metadata', 'tiles_dir'])"
      ]
     },
     "execution_count": 41,
     "metadata": {},
     "output_type": "execute_result"
    }
   ],
   "source": [
    "meta.keys()"
   ]
  },
  {
   "cell_type": "code",
   "execution_count": 45,
   "metadata": {},
   "outputs": [],
   "source": [
    "# relative path to tiles\n",
    "meta['tiles_dir'] = qf_dir.replace(outdir, '')\n",
    "# full path to tiles\n",
    "meta['full_path'] = collapse_user(qf_dir)"
   ]
  },
  {
   "cell_type": "code",
   "execution_count": 46,
   "metadata": {},
   "outputs": [],
   "source": [
    "with open(m_file, 'w') as f:\n",
    "    f.write(yaml.dump(meta))"
   ]
  },
  {
   "attachments": {},
   "cell_type": "markdown",
   "metadata": {},
   "source": [
    "### 5) cleanup"
   ]
  },
  {
   "cell_type": "code",
   "execution_count": null,
   "metadata": {},
   "outputs": [],
   "source": []
  }
 ],
 "metadata": {
  "kernelspec": {
   "display_name": "featherplot",
   "language": "python",
   "name": "python3"
  },
  "language_info": {
   "codemirror_mode": {
    "name": "ipython",
    "version": 3
   },
   "file_extension": ".py",
   "mimetype": "text/x-python",
   "name": "python",
   "nbconvert_exporter": "python",
   "pygments_lexer": "ipython3",
   "version": "3.11.4"
  },
  "orig_nbformat": 4
 },
 "nbformat": 4,
 "nbformat_minor": 2
}
