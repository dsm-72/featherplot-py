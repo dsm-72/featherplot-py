{
 "cells": [
  {
   "cell_type": "code",
   "execution_count": 1,
   "metadata": {},
   "outputs": [],
   "source": [
    "%load_ext autoreload\n",
    "%autoreload 2"
   ]
  },
  {
   "cell_type": "code",
   "execution_count": 2,
   "metadata": {},
   "outputs": [],
   "source": [
    "# standard lib\n",
    "import os, pwd, sys, json, yaml, atexit, tempfile, inspect\n",
    "from pathlib import Path\n",
    "\n",
    "# for data-science\n",
    "import pandas as pd, numpy as np, quadfeather\n",
    "from pyarrow import feather\n",
    "\n",
    "# for plotting\n",
    "import matplotlib as mpl, matplotlib.pyplot as plt, seaborn as sns\n",
    "\n",
    "# for cellular-data\n",
    "import scprep, scanpy as sc, anndata as ad"
   ]
  },
  {
   "cell_type": "code",
   "execution_count": 3,
   "metadata": {},
   "outputs": [],
   "source": [
    "from featherplot.utils import MockSingleCellData, AnnDataProcessor, QuadFeatherRenamer\n",
    "from featherplot.utils import SeriesToChannel, DataFrameToMetadata\n",
    "\n",
    "from featherplot.utils import collapse_user\n",
    "from featherplot.deepscatter import Tileset"
   ]
  },
  {
   "cell_type": "code",
   "execution_count": 4,
   "metadata": {},
   "outputs": [],
   "source": [
    "adata = ad.read_h5ad(os.path.expanduser('~/Downloads/adata_s1.h5'))"
   ]
  },
  {
   "cell_type": "code",
   "execution_count": 5,
   "metadata": {},
   "outputs": [
    {
     "data": {
      "text/plain": [
       "AnnData object with n_obs × n_vars = 41253 × 29275\n",
       "    obs: 'barcodes', 'batch', 'timepoint', 'n_genes_by_counts', 'log1p_n_genes_by_counts', 'total_counts', 'log1p_total_counts', 'pct_counts_in_top_50_genes', 'pct_counts_in_top_100_genes', 'pct_counts_in_top_200_genes', 'pct_counts_in_top_500_genes', 'total_counts_mito', 'log1p_total_counts_mito', 'pct_counts_mito', 'total_counts_ribo', 'log1p_total_counts_ribo', 'pct_counts_ribo', 'log10_total_counts'\n",
       "    var: 'ensembl_id', 'gene_symbol', 'feature_type', 'mito', 'ribo', 'n_cells_by_counts', 'mean_counts', 'log1p_mean_counts', 'pct_dropout_by_counts', 'total_counts', 'log1p_total_counts', 'n_cells', 'highly_variable_WT1', 'highly_variable_WT2', 'highly_variable_KO1', 'highly_variable_KO3', 'highly_variable'\n",
       "    uns: 'batch_colors'\n",
       "    obsm: 'X_pca', 'X_pca_hvg', 'X_phate', 'X_phate_hvg'\n",
       "    layers: 'X_detected', 'X_magic', 'X_prenorm', 'X_scaled_normalised'"
      ]
     },
     "execution_count": 5,
     "metadata": {},
     "output_type": "execute_result"
    }
   ],
   "source": [
    "adata"
   ]
  },
  {
   "cell_type": "code",
   "execution_count": 7,
   "metadata": {},
   "outputs": [],
   "source": [
    "adata.obs.loc[:, 'conditions'] = adata.obs.batch"
   ]
  },
  {
   "cell_type": "code",
   "execution_count": 5,
   "metadata": {},
   "outputs": [
    {
     "data": {
      "text/plain": [
       "AnnData object with n_obs × n_vars = 1000 × 100\n",
       "    obs: 'barcodes', 'conditions'\n",
       "    var: 'is_hvg'\n",
       "    obsm: 'X_mock'\n",
       "    layers: 'X_norm'"
      ]
     },
     "execution_count": 5,
     "metadata": {},
     "output_type": "execute_result"
    }
   ],
   "source": [
    "adata"
   ]
  },
  {
   "attachments": {},
   "cell_type": "markdown",
   "metadata": {},
   "source": [
    "### HVGs"
   ]
  },
  {
   "cell_type": "code",
   "execution_count": 25,
   "metadata": {},
   "outputs": [],
   "source": [
    "barcodes = pd.Series(adata.obs.index.to_numpy().astype(str), name='barcode')\n",
    "subcells = barcodes.sample(20000)\n",
    "\n",
    "allgenes = pd.Series(adata.var.gene_symbol.to_numpy(), name=\"genes\")\n",
    "hvggenes = pd.Series(adata.var[adata.var.highly_variable].gene_symbol.to_numpy(), name=\"hvg_genes\")\n",
    "\n",
    "hvg_idxs = hvggenes.map(lambda g: adata.var_names.tolist().index(g))"
   ]
  },
  {
   "cell_type": "code",
   "execution_count": 48,
   "metadata": {},
   "outputs": [
    {
     "data": {
      "text/plain": [
       "(20000, 6274)"
      ]
     },
     "execution_count": 48,
     "metadata": {},
     "output_type": "execute_result"
    }
   ],
   "source": [
    "sdata = adata[subcells, hvg_idxs]\n",
    "sdata.shape"
   ]
  },
  {
   "attachments": {},
   "cell_type": "markdown",
   "metadata": {},
   "source": [
    "### Create Processor\n",
    "> this will help us extract the embedding layer and the gene expression layer"
   ]
  },
  {
   "cell_type": "code",
   "execution_count": 49,
   "metadata": {},
   "outputs": [],
   "source": [
    "pipe = AnnDataProcessor(sdata, 'X_phate_hvg', 'X_magic')"
   ]
  },
  {
   "attachments": {},
   "cell_type": "markdown",
   "metadata": {},
   "source": [
    "#### sidecars\n",
    "\n",
    "Deepscatter calls additional columns `sidecars`, in our case those are the columns of gene expression. We place these values in `df_s`."
   ]
  },
  {
   "cell_type": "code",
   "execution_count": 50,
   "metadata": {},
   "outputs": [
    {
     "data": {
      "text/html": [
       "<div>\n",
       "<style scoped>\n",
       "    .dataframe tbody tr th:only-of-type {\n",
       "        vertical-align: middle;\n",
       "    }\n",
       "\n",
       "    .dataframe tbody tr th {\n",
       "        vertical-align: top;\n",
       "    }\n",
       "\n",
       "    .dataframe thead th {\n",
       "        text-align: right;\n",
       "    }\n",
       "</style>\n",
       "<table border=\"1\" class=\"dataframe\">\n",
       "  <thead>\n",
       "    <tr style=\"text-align: right;\">\n",
       "      <th>gene_symbol</th>\n",
       "      <th>SAMD11</th>\n",
       "      <th>HES4</th>\n",
       "      <th>ISG15</th>\n",
       "      <th>ENSG00000242590</th>\n",
       "      <th>PUSL1</th>\n",
       "      <th>AURKAIP1</th>\n",
       "      <th>CCNL2</th>\n",
       "      <th>MRPL20-AS1</th>\n",
       "      <th>MRPL20</th>\n",
       "      <th>VWA1</th>\n",
       "      <th>...</th>\n",
       "      <th>SRY</th>\n",
       "      <th>RPS4Y1</th>\n",
       "      <th>ZFY</th>\n",
       "      <th>TBL1Y</th>\n",
       "      <th>USP9Y</th>\n",
       "      <th>DDX3Y</th>\n",
       "      <th>TMSB4Y</th>\n",
       "      <th>TTTY14</th>\n",
       "      <th>ENSG00000273748</th>\n",
       "      <th>ENSG00000276345</th>\n",
       "    </tr>\n",
       "  </thead>\n",
       "  <tbody>\n",
       "    <tr>\n",
       "      <th>AGGCAGTGACCAAGAA_1_1</th>\n",
       "      <td>0.006149</td>\n",
       "      <td>0.167977</td>\n",
       "      <td>0.475078</td>\n",
       "      <td>0.024577</td>\n",
       "      <td>0.150066</td>\n",
       "      <td>0.912030</td>\n",
       "      <td>0.058636</td>\n",
       "      <td>0.094406</td>\n",
       "      <td>1.180757</td>\n",
       "      <td>0.016630</td>\n",
       "      <td>...</td>\n",
       "      <td>0.037425</td>\n",
       "      <td>1.451122</td>\n",
       "      <td>0.022790</td>\n",
       "      <td>0.085025</td>\n",
       "      <td>0.050572</td>\n",
       "      <td>0.060684</td>\n",
       "      <td>0.168853</td>\n",
       "      <td>0.740216</td>\n",
       "      <td>0.048749</td>\n",
       "      <td>0.219039</td>\n",
       "    </tr>\n",
       "    <tr>\n",
       "      <th>CAGCAGAAAGTGATTG_1_0</th>\n",
       "      <td>0.054882</td>\n",
       "      <td>0.141022</td>\n",
       "      <td>0.284296</td>\n",
       "      <td>0.034572</td>\n",
       "      <td>0.095772</td>\n",
       "      <td>0.927549</td>\n",
       "      <td>0.048393</td>\n",
       "      <td>0.093624</td>\n",
       "      <td>0.930962</td>\n",
       "      <td>0.032577</td>\n",
       "      <td>...</td>\n",
       "      <td>0.046954</td>\n",
       "      <td>1.436682</td>\n",
       "      <td>0.031922</td>\n",
       "      <td>0.053767</td>\n",
       "      <td>0.085013</td>\n",
       "      <td>0.053730</td>\n",
       "      <td>0.065288</td>\n",
       "      <td>0.477350</td>\n",
       "      <td>0.017662</td>\n",
       "      <td>0.150637</td>\n",
       "    </tr>\n",
       "    <tr>\n",
       "      <th>AAGCACAGAACCAGGC_0_1</th>\n",
       "      <td>0.013995</td>\n",
       "      <td>0.159398</td>\n",
       "      <td>0.379221</td>\n",
       "      <td>0.029823</td>\n",
       "      <td>0.149699</td>\n",
       "      <td>0.864707</td>\n",
       "      <td>0.092350</td>\n",
       "      <td>0.112568</td>\n",
       "      <td>1.096096</td>\n",
       "      <td>0.013355</td>\n",
       "      <td>...</td>\n",
       "      <td>0.043673</td>\n",
       "      <td>1.454330</td>\n",
       "      <td>0.025345</td>\n",
       "      <td>0.059932</td>\n",
       "      <td>0.060339</td>\n",
       "      <td>0.052731</td>\n",
       "      <td>0.117253</td>\n",
       "      <td>0.616852</td>\n",
       "      <td>0.044294</td>\n",
       "      <td>0.240017</td>\n",
       "    </tr>\n",
       "    <tr>\n",
       "      <th>AGCCATTCAGGTAATG_1_1</th>\n",
       "      <td>0.006551</td>\n",
       "      <td>0.108100</td>\n",
       "      <td>0.517338</td>\n",
       "      <td>0.037478</td>\n",
       "      <td>0.167430</td>\n",
       "      <td>0.993215</td>\n",
       "      <td>0.079535</td>\n",
       "      <td>0.096444</td>\n",
       "      <td>1.263467</td>\n",
       "      <td>0.021408</td>\n",
       "      <td>...</td>\n",
       "      <td>0.044514</td>\n",
       "      <td>1.526370</td>\n",
       "      <td>0.024822</td>\n",
       "      <td>0.118452</td>\n",
       "      <td>0.061080</td>\n",
       "      <td>0.066690</td>\n",
       "      <td>0.175099</td>\n",
       "      <td>0.822873</td>\n",
       "      <td>0.050498</td>\n",
       "      <td>0.255517</td>\n",
       "    </tr>\n",
       "    <tr>\n",
       "      <th>ATACACTGAGGCCCCG_1_0</th>\n",
       "      <td>0.014310</td>\n",
       "      <td>0.159075</td>\n",
       "      <td>0.296488</td>\n",
       "      <td>0.030551</td>\n",
       "      <td>0.126787</td>\n",
       "      <td>0.934317</td>\n",
       "      <td>0.059586</td>\n",
       "      <td>0.109673</td>\n",
       "      <td>1.068769</td>\n",
       "      <td>0.018880</td>\n",
       "      <td>...</td>\n",
       "      <td>0.049627</td>\n",
       "      <td>1.513220</td>\n",
       "      <td>0.020323</td>\n",
       "      <td>0.052966</td>\n",
       "      <td>0.056577</td>\n",
       "      <td>0.049664</td>\n",
       "      <td>0.081523</td>\n",
       "      <td>0.563833</td>\n",
       "      <td>0.034348</td>\n",
       "      <td>0.195569</td>\n",
       "    </tr>\n",
       "  </tbody>\n",
       "</table>\n",
       "<p>5 rows × 6274 columns</p>\n",
       "</div>"
      ],
      "text/plain": [
       "gene_symbol             SAMD11      HES4     ISG15  ENSG00000242590     PUSL1  \\\n",
       "AGGCAGTGACCAAGAA_1_1  0.006149  0.167977  0.475078         0.024577  0.150066   \n",
       "CAGCAGAAAGTGATTG_1_0  0.054882  0.141022  0.284296         0.034572  0.095772   \n",
       "AAGCACAGAACCAGGC_0_1  0.013995  0.159398  0.379221         0.029823  0.149699   \n",
       "AGCCATTCAGGTAATG_1_1  0.006551  0.108100  0.517338         0.037478  0.167430   \n",
       "ATACACTGAGGCCCCG_1_0  0.014310  0.159075  0.296488         0.030551  0.126787   \n",
       "\n",
       "gene_symbol           AURKAIP1     CCNL2  MRPL20-AS1    MRPL20      VWA1  ...  \\\n",
       "AGGCAGTGACCAAGAA_1_1  0.912030  0.058636    0.094406  1.180757  0.016630  ...   \n",
       "CAGCAGAAAGTGATTG_1_0  0.927549  0.048393    0.093624  0.930962  0.032577  ...   \n",
       "AAGCACAGAACCAGGC_0_1  0.864707  0.092350    0.112568  1.096096  0.013355  ...   \n",
       "AGCCATTCAGGTAATG_1_1  0.993215  0.079535    0.096444  1.263467  0.021408  ...   \n",
       "ATACACTGAGGCCCCG_1_0  0.934317  0.059586    0.109673  1.068769  0.018880  ...   \n",
       "\n",
       "gene_symbol                SRY    RPS4Y1       ZFY     TBL1Y     USP9Y  \\\n",
       "AGGCAGTGACCAAGAA_1_1  0.037425  1.451122  0.022790  0.085025  0.050572   \n",
       "CAGCAGAAAGTGATTG_1_0  0.046954  1.436682  0.031922  0.053767  0.085013   \n",
       "AAGCACAGAACCAGGC_0_1  0.043673  1.454330  0.025345  0.059932  0.060339   \n",
       "AGCCATTCAGGTAATG_1_1  0.044514  1.526370  0.024822  0.118452  0.061080   \n",
       "ATACACTGAGGCCCCG_1_0  0.049627  1.513220  0.020323  0.052966  0.056577   \n",
       "\n",
       "gene_symbol              DDX3Y    TMSB4Y    TTTY14  ENSG00000273748  \\\n",
       "AGGCAGTGACCAAGAA_1_1  0.060684  0.168853  0.740216         0.048749   \n",
       "CAGCAGAAAGTGATTG_1_0  0.053730  0.065288  0.477350         0.017662   \n",
       "AAGCACAGAACCAGGC_0_1  0.052731  0.117253  0.616852         0.044294   \n",
       "AGCCATTCAGGTAATG_1_1  0.066690  0.175099  0.822873         0.050498   \n",
       "ATACACTGAGGCCCCG_1_0  0.049664  0.081523  0.563833         0.034348   \n",
       "\n",
       "gene_symbol           ENSG00000276345  \n",
       "AGGCAGTGACCAAGAA_1_1         0.219039  \n",
       "CAGCAGAAAGTGATTG_1_0         0.150637  \n",
       "AAGCACAGAACCAGGC_0_1         0.240017  \n",
       "AGCCATTCAGGTAATG_1_1         0.255517  \n",
       "ATACACTGAGGCCCCG_1_0         0.195569  \n",
       "\n",
       "[5 rows x 6274 columns]"
      ]
     },
     "execution_count": 50,
     "metadata": {},
     "output_type": "execute_result"
    }
   ],
   "source": [
    "df_s = pipe.get_sidecars()\n",
    "df_s.head()"
   ]
  },
  {
   "attachments": {},
   "cell_type": "markdown",
   "metadata": {},
   "source": [
    "#### points\n",
    "\n",
    "If our gene expression features are called `sidecars`, then what is the embedding layer called? Well it is just the \"points\" of the plot, so we will store these values in `df_p`.\n",
    "\n",
    "**NOTE**: we also store conditions with `df_p` as whatever is in this DataFrame will be loaded by `Deepscatter` automatically. "
   ]
  },
  {
   "cell_type": "code",
   "execution_count": 51,
   "metadata": {},
   "outputs": [
    {
     "data": {
      "text/html": [
       "<div>\n",
       "<style scoped>\n",
       "    .dataframe tbody tr th:only-of-type {\n",
       "        vertical-align: middle;\n",
       "    }\n",
       "\n",
       "    .dataframe tbody tr th {\n",
       "        vertical-align: top;\n",
       "    }\n",
       "\n",
       "    .dataframe thead th {\n",
       "        text-align: right;\n",
       "    }\n",
       "</style>\n",
       "<table border=\"1\" class=\"dataframe\">\n",
       "  <thead>\n",
       "    <tr style=\"text-align: right;\">\n",
       "      <th></th>\n",
       "      <th>PHATE_HVG_1</th>\n",
       "      <th>PHATE_HVG_2</th>\n",
       "      <th>PHATE_HVG_3</th>\n",
       "      <th>conditions</th>\n",
       "    </tr>\n",
       "  </thead>\n",
       "  <tbody>\n",
       "    <tr>\n",
       "      <th>AGGCAGTGACCAAGAA_1_1</th>\n",
       "      <td>-0.019512</td>\n",
       "      <td>-0.001581</td>\n",
       "      <td>0.001367</td>\n",
       "      <td>WT2</td>\n",
       "    </tr>\n",
       "    <tr>\n",
       "      <th>CAGCAGAAAGTGATTG_1_0</th>\n",
       "      <td>-0.032605</td>\n",
       "      <td>0.002190</td>\n",
       "      <td>0.002802</td>\n",
       "      <td>WT1</td>\n",
       "    </tr>\n",
       "    <tr>\n",
       "      <th>AAGCACAGAACCAGGC_0_1</th>\n",
       "      <td>-0.025619</td>\n",
       "      <td>0.000695</td>\n",
       "      <td>0.002344</td>\n",
       "      <td>WT2</td>\n",
       "    </tr>\n",
       "    <tr>\n",
       "      <th>AGCCATTCAGGTAATG_1_1</th>\n",
       "      <td>-0.013609</td>\n",
       "      <td>-0.000721</td>\n",
       "      <td>0.000391</td>\n",
       "      <td>WT2</td>\n",
       "    </tr>\n",
       "    <tr>\n",
       "      <th>ATACACTGAGGCCCCG_1_0</th>\n",
       "      <td>-0.028058</td>\n",
       "      <td>0.000873</td>\n",
       "      <td>0.002455</td>\n",
       "      <td>WT1</td>\n",
       "    </tr>\n",
       "  </tbody>\n",
       "</table>\n",
       "</div>"
      ],
      "text/plain": [
       "                      PHATE_HVG_1  PHATE_HVG_2  PHATE_HVG_3 conditions\n",
       "AGGCAGTGACCAAGAA_1_1    -0.019512    -0.001581     0.001367        WT2\n",
       "CAGCAGAAAGTGATTG_1_0    -0.032605     0.002190     0.002802        WT1\n",
       "AAGCACAGAACCAGGC_0_1    -0.025619     0.000695     0.002344        WT2\n",
       "AGCCATTCAGGTAATG_1_1    -0.013609    -0.000721     0.000391        WT2\n",
       "ATACACTGAGGCCCCG_1_0    -0.028058     0.000873     0.002455        WT1"
      ]
     },
     "execution_count": 51,
     "metadata": {},
     "output_type": "execute_result"
    }
   ],
   "source": [
    "df_p = pipe.get_embedding()\n",
    "df_p = df_p.join(pipe.adata.obs.conditions)\n",
    "df_p.head()"
   ]
  },
  {
   "attachments": {},
   "cell_type": "markdown",
   "metadata": {},
   "source": [
    "#### Combined\n",
    "Now we combine `df_p` (points + condition) with `df_s` (\"sidecars\" i.e. gene expression). This is necessary as for script later on where we need to add the sidecars to already the `quadfeather`-ed (tiled) point data. "
   ]
  },
  {
   "cell_type": "code",
   "execution_count": 52,
   "metadata": {},
   "outputs": [
    {
     "data": {
      "text/html": [
       "<div>\n",
       "<style scoped>\n",
       "    .dataframe tbody tr th:only-of-type {\n",
       "        vertical-align: middle;\n",
       "    }\n",
       "\n",
       "    .dataframe tbody tr th {\n",
       "        vertical-align: top;\n",
       "    }\n",
       "\n",
       "    .dataframe thead th {\n",
       "        text-align: right;\n",
       "    }\n",
       "</style>\n",
       "<table border=\"1\" class=\"dataframe\">\n",
       "  <thead>\n",
       "    <tr style=\"text-align: right;\">\n",
       "      <th></th>\n",
       "      <th>PHATE_HVG_1</th>\n",
       "      <th>PHATE_HVG_2</th>\n",
       "      <th>PHATE_HVG_3</th>\n",
       "      <th>conditions</th>\n",
       "      <th>SAMD11</th>\n",
       "      <th>HES4</th>\n",
       "      <th>ISG15</th>\n",
       "      <th>ENSG00000242590</th>\n",
       "      <th>PUSL1</th>\n",
       "      <th>AURKAIP1</th>\n",
       "      <th>...</th>\n",
       "      <th>SRY</th>\n",
       "      <th>RPS4Y1</th>\n",
       "      <th>ZFY</th>\n",
       "      <th>TBL1Y</th>\n",
       "      <th>USP9Y</th>\n",
       "      <th>DDX3Y</th>\n",
       "      <th>TMSB4Y</th>\n",
       "      <th>TTTY14</th>\n",
       "      <th>ENSG00000273748</th>\n",
       "      <th>ENSG00000276345</th>\n",
       "    </tr>\n",
       "  </thead>\n",
       "  <tbody>\n",
       "    <tr>\n",
       "      <th>AGGCAGTGACCAAGAA_1_1</th>\n",
       "      <td>-0.019512</td>\n",
       "      <td>-0.001581</td>\n",
       "      <td>0.001367</td>\n",
       "      <td>WT2</td>\n",
       "      <td>0.006149</td>\n",
       "      <td>0.167977</td>\n",
       "      <td>0.475078</td>\n",
       "      <td>0.024577</td>\n",
       "      <td>0.150066</td>\n",
       "      <td>0.912030</td>\n",
       "      <td>...</td>\n",
       "      <td>0.037425</td>\n",
       "      <td>1.451122</td>\n",
       "      <td>0.022790</td>\n",
       "      <td>0.085025</td>\n",
       "      <td>0.050572</td>\n",
       "      <td>0.060684</td>\n",
       "      <td>0.168853</td>\n",
       "      <td>0.740216</td>\n",
       "      <td>0.048749</td>\n",
       "      <td>0.219039</td>\n",
       "    </tr>\n",
       "    <tr>\n",
       "      <th>CAGCAGAAAGTGATTG_1_0</th>\n",
       "      <td>-0.032605</td>\n",
       "      <td>0.002190</td>\n",
       "      <td>0.002802</td>\n",
       "      <td>WT1</td>\n",
       "      <td>0.054882</td>\n",
       "      <td>0.141022</td>\n",
       "      <td>0.284296</td>\n",
       "      <td>0.034572</td>\n",
       "      <td>0.095772</td>\n",
       "      <td>0.927549</td>\n",
       "      <td>...</td>\n",
       "      <td>0.046954</td>\n",
       "      <td>1.436682</td>\n",
       "      <td>0.031922</td>\n",
       "      <td>0.053767</td>\n",
       "      <td>0.085013</td>\n",
       "      <td>0.053730</td>\n",
       "      <td>0.065288</td>\n",
       "      <td>0.477350</td>\n",
       "      <td>0.017662</td>\n",
       "      <td>0.150637</td>\n",
       "    </tr>\n",
       "    <tr>\n",
       "      <th>AAGCACAGAACCAGGC_0_1</th>\n",
       "      <td>-0.025619</td>\n",
       "      <td>0.000695</td>\n",
       "      <td>0.002344</td>\n",
       "      <td>WT2</td>\n",
       "      <td>0.013995</td>\n",
       "      <td>0.159398</td>\n",
       "      <td>0.379221</td>\n",
       "      <td>0.029823</td>\n",
       "      <td>0.149699</td>\n",
       "      <td>0.864707</td>\n",
       "      <td>...</td>\n",
       "      <td>0.043673</td>\n",
       "      <td>1.454330</td>\n",
       "      <td>0.025345</td>\n",
       "      <td>0.059932</td>\n",
       "      <td>0.060339</td>\n",
       "      <td>0.052731</td>\n",
       "      <td>0.117253</td>\n",
       "      <td>0.616852</td>\n",
       "      <td>0.044294</td>\n",
       "      <td>0.240017</td>\n",
       "    </tr>\n",
       "    <tr>\n",
       "      <th>AGCCATTCAGGTAATG_1_1</th>\n",
       "      <td>-0.013609</td>\n",
       "      <td>-0.000721</td>\n",
       "      <td>0.000391</td>\n",
       "      <td>WT2</td>\n",
       "      <td>0.006551</td>\n",
       "      <td>0.108100</td>\n",
       "      <td>0.517338</td>\n",
       "      <td>0.037478</td>\n",
       "      <td>0.167430</td>\n",
       "      <td>0.993215</td>\n",
       "      <td>...</td>\n",
       "      <td>0.044514</td>\n",
       "      <td>1.526370</td>\n",
       "      <td>0.024822</td>\n",
       "      <td>0.118452</td>\n",
       "      <td>0.061080</td>\n",
       "      <td>0.066690</td>\n",
       "      <td>0.175099</td>\n",
       "      <td>0.822873</td>\n",
       "      <td>0.050498</td>\n",
       "      <td>0.255517</td>\n",
       "    </tr>\n",
       "    <tr>\n",
       "      <th>ATACACTGAGGCCCCG_1_0</th>\n",
       "      <td>-0.028058</td>\n",
       "      <td>0.000873</td>\n",
       "      <td>0.002455</td>\n",
       "      <td>WT1</td>\n",
       "      <td>0.014310</td>\n",
       "      <td>0.159075</td>\n",
       "      <td>0.296488</td>\n",
       "      <td>0.030551</td>\n",
       "      <td>0.126787</td>\n",
       "      <td>0.934317</td>\n",
       "      <td>...</td>\n",
       "      <td>0.049627</td>\n",
       "      <td>1.513220</td>\n",
       "      <td>0.020323</td>\n",
       "      <td>0.052966</td>\n",
       "      <td>0.056577</td>\n",
       "      <td>0.049664</td>\n",
       "      <td>0.081523</td>\n",
       "      <td>0.563833</td>\n",
       "      <td>0.034348</td>\n",
       "      <td>0.195569</td>\n",
       "    </tr>\n",
       "  </tbody>\n",
       "</table>\n",
       "<p>5 rows × 6278 columns</p>\n",
       "</div>"
      ],
      "text/plain": [
       "                      PHATE_HVG_1  PHATE_HVG_2  PHATE_HVG_3 conditions  \\\n",
       "AGGCAGTGACCAAGAA_1_1    -0.019512    -0.001581     0.001367        WT2   \n",
       "CAGCAGAAAGTGATTG_1_0    -0.032605     0.002190     0.002802        WT1   \n",
       "AAGCACAGAACCAGGC_0_1    -0.025619     0.000695     0.002344        WT2   \n",
       "AGCCATTCAGGTAATG_1_1    -0.013609    -0.000721     0.000391        WT2   \n",
       "ATACACTGAGGCCCCG_1_0    -0.028058     0.000873     0.002455        WT1   \n",
       "\n",
       "                        SAMD11      HES4     ISG15  ENSG00000242590     PUSL1  \\\n",
       "AGGCAGTGACCAAGAA_1_1  0.006149  0.167977  0.475078         0.024577  0.150066   \n",
       "CAGCAGAAAGTGATTG_1_0  0.054882  0.141022  0.284296         0.034572  0.095772   \n",
       "AAGCACAGAACCAGGC_0_1  0.013995  0.159398  0.379221         0.029823  0.149699   \n",
       "AGCCATTCAGGTAATG_1_1  0.006551  0.108100  0.517338         0.037478  0.167430   \n",
       "ATACACTGAGGCCCCG_1_0  0.014310  0.159075  0.296488         0.030551  0.126787   \n",
       "\n",
       "                      AURKAIP1  ...       SRY    RPS4Y1       ZFY     TBL1Y  \\\n",
       "AGGCAGTGACCAAGAA_1_1  0.912030  ...  0.037425  1.451122  0.022790  0.085025   \n",
       "CAGCAGAAAGTGATTG_1_0  0.927549  ...  0.046954  1.436682  0.031922  0.053767   \n",
       "AAGCACAGAACCAGGC_0_1  0.864707  ...  0.043673  1.454330  0.025345  0.059932   \n",
       "AGCCATTCAGGTAATG_1_1  0.993215  ...  0.044514  1.526370  0.024822  0.118452   \n",
       "ATACACTGAGGCCCCG_1_0  0.934317  ...  0.049627  1.513220  0.020323  0.052966   \n",
       "\n",
       "                         USP9Y     DDX3Y    TMSB4Y    TTTY14  ENSG00000273748  \\\n",
       "AGGCAGTGACCAAGAA_1_1  0.050572  0.060684  0.168853  0.740216         0.048749   \n",
       "CAGCAGAAAGTGATTG_1_0  0.085013  0.053730  0.065288  0.477350         0.017662   \n",
       "AAGCACAGAACCAGGC_0_1  0.060339  0.052731  0.117253  0.616852         0.044294   \n",
       "AGCCATTCAGGTAATG_1_1  0.061080  0.066690  0.175099  0.822873         0.050498   \n",
       "ATACACTGAGGCCCCG_1_0  0.056577  0.049664  0.081523  0.563833         0.034348   \n",
       "\n",
       "                      ENSG00000276345  \n",
       "AGGCAGTGACCAAGAA_1_1         0.219039  \n",
       "CAGCAGAAAGTGATTG_1_0         0.150637  \n",
       "AAGCACAGAACCAGGC_0_1         0.240017  \n",
       "AGCCATTCAGGTAATG_1_1         0.255517  \n",
       "ATACACTGAGGCCCCG_1_0         0.195569  \n",
       "\n",
       "[5 rows x 6278 columns]"
      ]
     },
     "execution_count": 52,
     "metadata": {},
     "output_type": "execute_result"
    }
   ],
   "source": [
    "df_all = df_p.join(df_s)\n",
    "df_all.head()"
   ]
  },
  {
   "attachments": {},
   "cell_type": "markdown",
   "metadata": {},
   "source": [
    "### QuadFeatherRenamer\n",
    "\n",
    "Note: `quadfeather` and `deepscatter` are both under active development so things change all the time. At the moment `quadfeather` requires that `x` and `y` be in your DataFrame (it doesn't mind if `z` is there too). So this will handle the renaming of our columns."
   ]
  },
  {
   "cell_type": "code",
   "execution_count": 104,
   "metadata": {},
   "outputs": [],
   "source": [
    "qfr = QuadFeatherRenamer(df_all)"
   ]
  },
  {
   "cell_type": "code",
   "execution_count": 105,
   "metadata": {},
   "outputs": [
    {
     "data": {
      "text/plain": [
       "{'PHATE_HVG_1': 'x', 'PHATE_HVG_2': 'y', 'PHATE_HVG_3': 'z'}"
      ]
     },
     "execution_count": 105,
     "metadata": {},
     "output_type": "execute_result"
    }
   ],
   "source": [
    "df_q, renamed = qfr.rename()\n",
    "renamed"
   ]
  },
  {
   "attachments": {},
   "cell_type": "markdown",
   "metadata": {},
   "source": [
    "### DataFrameToMetadata\n",
    " \n",
    "`Deepscatter` is a really nice library; however, it also prefers to have its `plotAPI` method called with as much information as possible. This is a bit of a shame as it means that one you load your data with `deepscatter` you can't compute derived properties (e.g. domain of your data to scale the plot, check for what sidecars are availble, etc). \n",
    "\n",
    "The solution to this is simple. In order to have this information availble to us, we will just calculate it now (including which columns were renamed) and store it as metadata to use later"
   ]
  },
  {
   "cell_type": "code",
   "execution_count": 108,
   "metadata": {},
   "outputs": [],
   "source": [
    "# NOTE: it is important to make sure that the index has a name!\n",
    "df_q.index.name = 'barcodes'"
   ]
  },
  {
   "attachments": {},
   "cell_type": "markdown",
   "metadata": {},
   "source": [
    "#### unique columns"
   ]
  },
  {
   "cell_type": "code",
   "execution_count": 109,
   "metadata": {},
   "outputs": [],
   "source": [
    "all_cols = df_q.columns.tolist()\n",
    "uni_cols, col_cnts = np.unique(all_cols, return_counts=True)\n",
    "\n",
    "for n, c in zip(uni_cols, col_cnts):\n",
    "    if c == 1:\n",
    "        continue\n",
    "\n",
    "    i = 0\n",
    "    for j, o in enumerate(all_cols):\n",
    "        if o != n:\n",
    "            continue\n",
    "        all_cols[j] = f'{n}_{i}'\n",
    "        i += 1\n",
    "\n",
    "df_q.columns = all_cols"
   ]
  },
  {
   "attachments": {},
   "cell_type": "markdown",
   "metadata": {},
   "source": [
    "#### perpare metadata"
   ]
  },
  {
   "cell_type": "code",
   "execution_count": 111,
   "metadata": {},
   "outputs": [],
   "source": [
    "d2m = DataFrameToMetadata(\n",
    "    df_q, \n",
    "    include_index=True,\n",
    "    embedding='x y z'.split(),\n",
    "    alt_names={v:k for k,v in renamed.items()}\n",
    ")"
   ]
  },
  {
   "cell_type": "code",
   "execution_count": 112,
   "metadata": {},
   "outputs": [
    {
     "data": {
      "text/plain": [
       "(6279, 0)"
      ]
     },
     "execution_count": 112,
     "metadata": {},
     "output_type": "execute_result"
    }
   ],
   "source": [
    "succ, fail = d2m.convert()\n",
    "len(succ), len(fail)"
   ]
  },
  {
   "cell_type": "code",
   "execution_count": 113,
   "metadata": {},
   "outputs": [],
   "source": [
    "meta = d2m.to_meta()"
   ]
  },
  {
   "attachments": {},
   "cell_type": "markdown",
   "metadata": {},
   "source": [
    "## Quadfeather Workflow"
   ]
  },
  {
   "attachments": {},
   "cell_type": "markdown",
   "metadata": {},
   "source": [
    "Now we can now run through thte `quadfeather` workflow right here in the notebook."
   ]
  },
  {
   "attachments": {},
   "cell_type": "markdown",
   "metadata": {},
   "source": [
    "### 0) setup"
   ]
  },
  {
   "cell_type": "code",
   "execution_count": 115,
   "metadata": {},
   "outputs": [],
   "source": [
    "# dump everything to downloads for easy access\n",
    "outdir = os.path.expanduser('~/Downloads/seo_feather')\n",
    "qf_dir = os.path.join(outdir, 'tiles')\n",
    "if not os.path.isdir(qf_dir):\n",
    "    os.makedirs(qf_dir)\n",
    "\n",
    "\n",
    "p_file = os.path.join(outdir, 'points.parquet')\n",
    "# NOTE: we never use s_file\n",
    "# s_file = os.path.join(outdir, 'extras.parquet')\n",
    "f_file = os.path.join(qf_dir, 'sidecars.feather')\n",
    "m_file = os.path.join(outdir, 'meta.yml')\n",
    "\n",
    "\n",
    "tile_size = 1000"
   ]
  },
  {
   "attachments": {},
   "cell_type": "markdown",
   "metadata": {},
   "source": [
    "### 1) create tiles"
   ]
  },
  {
   "cell_type": "code",
   "execution_count": 116,
   "metadata": {},
   "outputs": [],
   "source": [
    "d2m.df.drop(columns=d2m.sidecars).to_parquet(p_file)\n",
    "# d2m.df.drop(columns=d2m.embedding).to_parquet(s_file)"
   ]
  },
  {
   "cell_type": "code",
   "execution_count": 117,
   "metadata": {},
   "outputs": [],
   "source": [
    "!quadfeather --files {p_file} \\\n",
    "             --tile_size {tile_size} \\\n",
    "             --destination {qf_dir}"
   ]
  },
  {
   "attachments": {},
   "cell_type": "markdown",
   "metadata": {},
   "source": [
    "### 2) make single file"
   ]
  },
  {
   "cell_type": "code",
   "execution_count": 119,
   "metadata": {},
   "outputs": [],
   "source": [
    "feather.write_feather(d2m.df.drop(columns=d2m.embedding), f_file)"
   ]
  },
  {
   "attachments": {},
   "cell_type": "markdown",
   "metadata": {},
   "source": [
    "### 3) run `add_sidecars.py`"
   ]
  },
  {
   "cell_type": "code",
   "execution_count": 120,
   "metadata": {},
   "outputs": [],
   "source": [
    "tileset = Tileset(Path(qf_dir))\n",
    "tileset.add_sidecars(f_file, d2m.df.index.name)"
   ]
  },
  {
   "attachments": {},
   "cell_type": "markdown",
   "metadata": {},
   "source": [
    "note we copied `add_sidecars.py` so you can use it directly from this library"
   ]
  },
  {
   "cell_type": "code",
   "execution_count": 44,
   "metadata": {},
   "outputs": [],
   "source": [
    "!featherplot add-sidecars --tileset {qf_dir}\\\n",
    "                         --sidecar {f_file} --key {d2m.df.index.name};"
   ]
  },
  {
   "attachments": {},
   "cell_type": "markdown",
   "metadata": {},
   "source": [
    "```sh\n",
    "featherplot-py featherplot add-sidecars --help\n",
    "\n",
    "Usage: featherplot add-sidecars \n",
    "[OPTIONS]\n",
    "--tileset          PATH  Path to the tileset to add sidecars to.\n",
    "--sidecar          PATH  Path to the new data to add to the tileset.\n",
    "--key              TEXT  key to use for joining; must exist in both tables\n",
    "--verbose  -v            Print verbose output.\n",
    "--help                   Show this message and exit.\n",
    "```"
   ]
  },
  {
   "attachments": {},
   "cell_type": "markdown",
   "metadata": {},
   "source": [
    "alternatively you can run the script form wherever you saved it"
   ]
  },
  {
   "cell_type": "code",
   "execution_count": null,
   "metadata": {},
   "outputs": [],
   "source": [
    "!python3 add_sidecars.py --tileset {qf_dir}\\\n",
    "                         --sidecar {f_file} --key {d2m.df.index.name};"
   ]
  },
  {
   "attachments": {},
   "cell_type": "markdown",
   "metadata": {},
   "source": [
    "### 4) update metadata with directory"
   ]
  },
  {
   "cell_type": "code",
   "execution_count": 121,
   "metadata": {},
   "outputs": [
    {
     "data": {
      "text/plain": [
       "dict_keys(['index', 'n_points', 'embedding', 'sidecars', 'columns_metadata', 'tiles_dir'])"
      ]
     },
     "execution_count": 121,
     "metadata": {},
     "output_type": "execute_result"
    }
   ],
   "source": [
    "meta.keys()"
   ]
  },
  {
   "cell_type": "code",
   "execution_count": 122,
   "metadata": {},
   "outputs": [],
   "source": [
    "# relative path to tiles\n",
    "meta['tiles_dir'] = qf_dir.replace(outdir, '')\n",
    "# full path to tiles\n",
    "meta['full_path'] = collapse_user(qf_dir)"
   ]
  },
  {
   "cell_type": "code",
   "execution_count": 123,
   "metadata": {},
   "outputs": [],
   "source": [
    "with open(m_file, 'w') as f:\n",
    "    f.write(yaml.dump(meta))"
   ]
  },
  {
   "attachments": {},
   "cell_type": "markdown",
   "metadata": {},
   "source": [
    "### 5) cleanup"
   ]
  },
  {
   "cell_type": "code",
   "execution_count": null,
   "metadata": {},
   "outputs": [],
   "source": []
  }
 ],
 "metadata": {
  "kernelspec": {
   "display_name": "featherplot",
   "language": "python",
   "name": "python3"
  },
  "language_info": {
   "codemirror_mode": {
    "name": "ipython",
    "version": 3
   },
   "file_extension": ".py",
   "mimetype": "text/x-python",
   "name": "python",
   "nbconvert_exporter": "python",
   "pygments_lexer": "ipython3",
   "version": "3.11.4"
  },
  "orig_nbformat": 4
 },
 "nbformat": 4,
 "nbformat_minor": 2
}
