{
 "cells": [
  {
   "cell_type": "code",
   "execution_count": 1,
   "metadata": {},
   "outputs": [],
   "source": [
    "%load_ext autoreload\n",
    "%autoreload 2"
   ]
  },
  {
   "cell_type": "code",
   "execution_count": 2,
   "metadata": {},
   "outputs": [],
   "source": [
    "# standard lib\n",
    "import os, pwd, sys, json, yaml, atexit, tempfile, inspect\n",
    "from pathlib import Path\n",
    "\n",
    "# for data-science\n",
    "import pandas as pd, numpy as np, quadfeather\n",
    "from pyarrow import feather\n",
    "\n",
    "# for plotting\n",
    "import matplotlib as mpl, matplotlib.pyplot as plt, seaborn as sns\n",
    "\n",
    "# for cellular-data\n",
    "import scprep, scanpy as sc, anndata as ad"
   ]
  },
  {
   "cell_type": "code",
   "execution_count": 3,
   "metadata": {},
   "outputs": [],
   "source": [
    "from featherplot.utils import MockSingleCellData, AnnDataProcessor, QuadFeatherRenamer\n",
    "from featherplot.utils import SeriesToChannel, DataFrameToMetadata\n",
    "\n",
    "from featherplot.utils import collapse_user\n",
    "from featherplot.deepscatter import Tileset"
   ]
  },
  {
   "cell_type": "code",
   "execution_count": 4,
   "metadata": {},
   "outputs": [],
   "source": [
    "adata = ad.read_h5ad(os.path.expanduser('~/Downloads/adata_s1.h5'))"
   ]
  },
  {
   "cell_type": "code",
   "execution_count": 5,
   "metadata": {},
   "outputs": [
    {
     "data": {
      "text/plain": [
       "AnnData object with n_obs × n_vars = 41253 × 29275\n",
       "    obs: 'barcodes', 'batch', 'timepoint', 'n_genes_by_counts', 'log1p_n_genes_by_counts', 'total_counts', 'log1p_total_counts', 'pct_counts_in_top_50_genes', 'pct_counts_in_top_100_genes', 'pct_counts_in_top_200_genes', 'pct_counts_in_top_500_genes', 'total_counts_mito', 'log1p_total_counts_mito', 'pct_counts_mito', 'total_counts_ribo', 'log1p_total_counts_ribo', 'pct_counts_ribo', 'log10_total_counts'\n",
       "    var: 'ensembl_id', 'gene_symbol', 'feature_type', 'mito', 'ribo', 'n_cells_by_counts', 'mean_counts', 'log1p_mean_counts', 'pct_dropout_by_counts', 'total_counts', 'log1p_total_counts', 'n_cells', 'highly_variable_WT1', 'highly_variable_WT2', 'highly_variable_KO1', 'highly_variable_KO3', 'highly_variable'\n",
       "    uns: 'batch_colors'\n",
       "    obsm: 'X_pca', 'X_pca_hvg', 'X_phate', 'X_phate_hvg'\n",
       "    layers: 'X_detected', 'X_magic', 'X_prenorm', 'X_scaled_normalised'"
      ]
     },
     "execution_count": 5,
     "metadata": {},
     "output_type": "execute_result"
    }
   ],
   "source": [
    "adata"
   ]
  },
  {
   "cell_type": "code",
   "execution_count": 12,
   "metadata": {},
   "outputs": [],
   "source": [
    "adata.obs.loc[:, 'conditions'] = adata.obs.batch"
   ]
  },
  {
   "attachments": {},
   "cell_type": "markdown",
   "metadata": {},
   "source": [
    "### HVGs"
   ]
  },
  {
   "cell_type": "code",
   "execution_count": 14,
   "metadata": {},
   "outputs": [],
   "source": [
    "subsample_percentage = 0.5\n",
    "\n",
    "total_cells = adata.shape[0]\n",
    "sample_size = int(total_cells * subsample_percentage)"
   ]
  },
  {
   "cell_type": "code",
   "execution_count": 15,
   "metadata": {},
   "outputs": [],
   "source": [
    "barcodes = pd.Series(adata.obs.index.to_numpy().astype(str), name='barcodes')\n",
    "subsample = barcodes.sample(sample_size)\n",
    "\n",
    "all_genes = pd.Series(adata.var.gene_symbol.to_numpy(), name='genes')\n",
    "hvg_genes = pd.Series(adata.var[adata.var.highly_variable].gene_symbol.to_numpy(), name='hvg_genes')\n",
    "\n",
    "hvg_idxs = hvg_genes.map(lambda g: adata.var.gene_symbol.tolist().index(g))"
   ]
  },
  {
   "cell_type": "code",
   "execution_count": 16,
   "metadata": {},
   "outputs": [
    {
     "data": {
      "text/plain": [
       "(20626, 6274)"
      ]
     },
     "execution_count": 16,
     "metadata": {},
     "output_type": "execute_result"
    }
   ],
   "source": [
    "sdata = adata[subsample, hvg_idxs]\n",
    "sdata.shape"
   ]
  },
  {
   "attachments": {},
   "cell_type": "markdown",
   "metadata": {},
   "source": [
    "### Create Processor\n",
    "> this will help us extract the embedding layer and the gene expression layer"
   ]
  },
  {
   "cell_type": "code",
   "execution_count": 17,
   "metadata": {},
   "outputs": [],
   "source": [
    "pipe = AnnDataProcessor(sdata, 'X_phate_hvg', 'X_magic')"
   ]
  },
  {
   "attachments": {},
   "cell_type": "markdown",
   "metadata": {},
   "source": [
    "#### sidecars\n",
    "\n",
    "Deepscatter calls additional columns `sidecars`, in our case those are the columns of gene expression. We place these values in `df_s`."
   ]
  },
  {
   "cell_type": "code",
   "execution_count": 18,
   "metadata": {},
   "outputs": [
    {
     "data": {
      "text/html": [
       "<div>\n",
       "<style scoped>\n",
       "    .dataframe tbody tr th:only-of-type {\n",
       "        vertical-align: middle;\n",
       "    }\n",
       "\n",
       "    .dataframe tbody tr th {\n",
       "        vertical-align: top;\n",
       "    }\n",
       "\n",
       "    .dataframe thead th {\n",
       "        text-align: right;\n",
       "    }\n",
       "</style>\n",
       "<table border=\"1\" class=\"dataframe\">\n",
       "  <thead>\n",
       "    <tr style=\"text-align: right;\">\n",
       "      <th></th>\n",
       "      <th>samd11</th>\n",
       "      <th>hes4</th>\n",
       "      <th>isg15</th>\n",
       "      <th>ensg00000242590</th>\n",
       "      <th>pusl1</th>\n",
       "      <th>aurkaip1</th>\n",
       "      <th>ccnl2</th>\n",
       "      <th>mrpl20-as1</th>\n",
       "      <th>mrpl20</th>\n",
       "      <th>vwa1</th>\n",
       "      <th>...</th>\n",
       "      <th>sry</th>\n",
       "      <th>rps4y1</th>\n",
       "      <th>zfy</th>\n",
       "      <th>tbl1y</th>\n",
       "      <th>usp9y</th>\n",
       "      <th>ddx3y</th>\n",
       "      <th>tmsb4y</th>\n",
       "      <th>ttty14</th>\n",
       "      <th>ensg00000273748</th>\n",
       "      <th>ensg00000276345</th>\n",
       "    </tr>\n",
       "  </thead>\n",
       "  <tbody>\n",
       "    <tr>\n",
       "      <th>CCTTATAAACCACAGT_1_1</th>\n",
       "      <td>0.003283</td>\n",
       "      <td>0.118062</td>\n",
       "      <td>0.472036</td>\n",
       "      <td>0.027416</td>\n",
       "      <td>0.169887</td>\n",
       "      <td>1.030929</td>\n",
       "      <td>0.059460</td>\n",
       "      <td>0.109248</td>\n",
       "      <td>1.240861</td>\n",
       "      <td>0.016911</td>\n",
       "      <td>...</td>\n",
       "      <td>0.038441</td>\n",
       "      <td>1.540256</td>\n",
       "      <td>0.024484</td>\n",
       "      <td>0.080791</td>\n",
       "      <td>0.048672</td>\n",
       "      <td>0.069707</td>\n",
       "      <td>0.141571</td>\n",
       "      <td>0.805999</td>\n",
       "      <td>0.039596</td>\n",
       "      <td>0.245006</td>\n",
       "    </tr>\n",
       "    <tr>\n",
       "      <th>AAGAATTAAGCGCCAC_3</th>\n",
       "      <td>0.001689</td>\n",
       "      <td>0.113360</td>\n",
       "      <td>0.905589</td>\n",
       "      <td>0.065835</td>\n",
       "      <td>0.232847</td>\n",
       "      <td>1.322561</td>\n",
       "      <td>0.095525</td>\n",
       "      <td>0.142055</td>\n",
       "      <td>1.552950</td>\n",
       "      <td>0.018224</td>\n",
       "      <td>...</td>\n",
       "      <td>0.056539</td>\n",
       "      <td>1.575424</td>\n",
       "      <td>0.044290</td>\n",
       "      <td>0.126020</td>\n",
       "      <td>0.070170</td>\n",
       "      <td>0.133023</td>\n",
       "      <td>0.364901</td>\n",
       "      <td>1.001463</td>\n",
       "      <td>0.080280</td>\n",
       "      <td>0.387865</td>\n",
       "    </tr>\n",
       "    <tr>\n",
       "      <th>CCCAAGGGCCGGACCA_1_0</th>\n",
       "      <td>0.003540</td>\n",
       "      <td>0.130652</td>\n",
       "      <td>0.463194</td>\n",
       "      <td>0.027383</td>\n",
       "      <td>0.138941</td>\n",
       "      <td>1.004315</td>\n",
       "      <td>0.058813</td>\n",
       "      <td>0.097315</td>\n",
       "      <td>1.256352</td>\n",
       "      <td>0.018805</td>\n",
       "      <td>...</td>\n",
       "      <td>0.037742</td>\n",
       "      <td>1.418464</td>\n",
       "      <td>0.024481</td>\n",
       "      <td>0.077431</td>\n",
       "      <td>0.052463</td>\n",
       "      <td>0.061942</td>\n",
       "      <td>0.122234</td>\n",
       "      <td>0.679069</td>\n",
       "      <td>0.034625</td>\n",
       "      <td>0.200009</td>\n",
       "    </tr>\n",
       "    <tr>\n",
       "      <th>CCAGAGCGCAAAATTT_1_1</th>\n",
       "      <td>0.004077</td>\n",
       "      <td>0.139749</td>\n",
       "      <td>0.481334</td>\n",
       "      <td>0.024868</td>\n",
       "      <td>0.206931</td>\n",
       "      <td>1.081458</td>\n",
       "      <td>0.057473</td>\n",
       "      <td>0.119534</td>\n",
       "      <td>1.291117</td>\n",
       "      <td>0.021176</td>\n",
       "      <td>...</td>\n",
       "      <td>0.041151</td>\n",
       "      <td>1.581175</td>\n",
       "      <td>0.023106</td>\n",
       "      <td>0.078843</td>\n",
       "      <td>0.058081</td>\n",
       "      <td>0.080372</td>\n",
       "      <td>0.223433</td>\n",
       "      <td>0.839984</td>\n",
       "      <td>0.065277</td>\n",
       "      <td>0.259735</td>\n",
       "    </tr>\n",
       "    <tr>\n",
       "      <th>CACGATTCATCGCCAT_0_0</th>\n",
       "      <td>0.006096</td>\n",
       "      <td>0.169425</td>\n",
       "      <td>0.462624</td>\n",
       "      <td>0.069898</td>\n",
       "      <td>0.160462</td>\n",
       "      <td>1.016115</td>\n",
       "      <td>0.070059</td>\n",
       "      <td>0.105035</td>\n",
       "      <td>1.231948</td>\n",
       "      <td>0.019508</td>\n",
       "      <td>...</td>\n",
       "      <td>0.056821</td>\n",
       "      <td>1.633546</td>\n",
       "      <td>0.027202</td>\n",
       "      <td>0.082261</td>\n",
       "      <td>0.069610</td>\n",
       "      <td>0.071924</td>\n",
       "      <td>0.164898</td>\n",
       "      <td>0.758949</td>\n",
       "      <td>0.041318</td>\n",
       "      <td>0.234896</td>\n",
       "    </tr>\n",
       "  </tbody>\n",
       "</table>\n",
       "<p>5 rows × 6274 columns</p>\n",
       "</div>"
      ],
      "text/plain": [
       "                        samd11      hes4     isg15  ensg00000242590     pusl1  \\\n",
       "CCTTATAAACCACAGT_1_1  0.003283  0.118062  0.472036         0.027416  0.169887   \n",
       "AAGAATTAAGCGCCAC_3    0.001689  0.113360  0.905589         0.065835  0.232847   \n",
       "CCCAAGGGCCGGACCA_1_0  0.003540  0.130652  0.463194         0.027383  0.138941   \n",
       "CCAGAGCGCAAAATTT_1_1  0.004077  0.139749  0.481334         0.024868  0.206931   \n",
       "CACGATTCATCGCCAT_0_0  0.006096  0.169425  0.462624         0.069898  0.160462   \n",
       "\n",
       "                      aurkaip1     ccnl2  mrpl20-as1    mrpl20      vwa1  ...  \\\n",
       "CCTTATAAACCACAGT_1_1  1.030929  0.059460    0.109248  1.240861  0.016911  ...   \n",
       "AAGAATTAAGCGCCAC_3    1.322561  0.095525    0.142055  1.552950  0.018224  ...   \n",
       "CCCAAGGGCCGGACCA_1_0  1.004315  0.058813    0.097315  1.256352  0.018805  ...   \n",
       "CCAGAGCGCAAAATTT_1_1  1.081458  0.057473    0.119534  1.291117  0.021176  ...   \n",
       "CACGATTCATCGCCAT_0_0  1.016115  0.070059    0.105035  1.231948  0.019508  ...   \n",
       "\n",
       "                           sry    rps4y1       zfy     tbl1y     usp9y  \\\n",
       "CCTTATAAACCACAGT_1_1  0.038441  1.540256  0.024484  0.080791  0.048672   \n",
       "AAGAATTAAGCGCCAC_3    0.056539  1.575424  0.044290  0.126020  0.070170   \n",
       "CCCAAGGGCCGGACCA_1_0  0.037742  1.418464  0.024481  0.077431  0.052463   \n",
       "CCAGAGCGCAAAATTT_1_1  0.041151  1.581175  0.023106  0.078843  0.058081   \n",
       "CACGATTCATCGCCAT_0_0  0.056821  1.633546  0.027202  0.082261  0.069610   \n",
       "\n",
       "                         ddx3y    tmsb4y    ttty14  ensg00000273748  \\\n",
       "CCTTATAAACCACAGT_1_1  0.069707  0.141571  0.805999         0.039596   \n",
       "AAGAATTAAGCGCCAC_3    0.133023  0.364901  1.001463         0.080280   \n",
       "CCCAAGGGCCGGACCA_1_0  0.061942  0.122234  0.679069         0.034625   \n",
       "CCAGAGCGCAAAATTT_1_1  0.080372  0.223433  0.839984         0.065277   \n",
       "CACGATTCATCGCCAT_0_0  0.071924  0.164898  0.758949         0.041318   \n",
       "\n",
       "                      ensg00000276345  \n",
       "CCTTATAAACCACAGT_1_1         0.245006  \n",
       "AAGAATTAAGCGCCAC_3           0.387865  \n",
       "CCCAAGGGCCGGACCA_1_0         0.200009  \n",
       "CCAGAGCGCAAAATTT_1_1         0.259735  \n",
       "CACGATTCATCGCCAT_0_0         0.234896  \n",
       "\n",
       "[5 rows x 6274 columns]"
      ]
     },
     "execution_count": 18,
     "metadata": {},
     "output_type": "execute_result"
    }
   ],
   "source": [
    "df_s = pipe.get_sidecars()\n",
    "df_s.head()"
   ]
  },
  {
   "attachments": {},
   "cell_type": "markdown",
   "metadata": {},
   "source": [
    "#### points\n",
    "\n",
    "If our gene expression features are called `sidecars`, then what is the embedding layer called? Well it is just the \"points\" of the plot, so we will store these values in `df_p`.\n",
    "\n",
    "**NOTE**: we also store conditions with `df_p` as whatever is in this DataFrame will be loaded by `Deepscatter` automatically. "
   ]
  },
  {
   "cell_type": "code",
   "execution_count": 19,
   "metadata": {},
   "outputs": [
    {
     "data": {
      "text/html": [
       "<div>\n",
       "<style scoped>\n",
       "    .dataframe tbody tr th:only-of-type {\n",
       "        vertical-align: middle;\n",
       "    }\n",
       "\n",
       "    .dataframe tbody tr th {\n",
       "        vertical-align: top;\n",
       "    }\n",
       "\n",
       "    .dataframe thead th {\n",
       "        text-align: right;\n",
       "    }\n",
       "</style>\n",
       "<table border=\"1\" class=\"dataframe\">\n",
       "  <thead>\n",
       "    <tr style=\"text-align: right;\">\n",
       "      <th></th>\n",
       "      <th>PHATE_HVG_1</th>\n",
       "      <th>PHATE_HVG_2</th>\n",
       "      <th>PHATE_HVG_3</th>\n",
       "      <th>conditions</th>\n",
       "    </tr>\n",
       "  </thead>\n",
       "  <tbody>\n",
       "    <tr>\n",
       "      <th>CCTTATAAACCACAGT_1_1</th>\n",
       "      <td>-0.017727</td>\n",
       "      <td>-0.001601</td>\n",
       "      <td>0.000652</td>\n",
       "      <td>WT2</td>\n",
       "    </tr>\n",
       "    <tr>\n",
       "      <th>AAGAATTAAGCGCCAC_3</th>\n",
       "      <td>0.037121</td>\n",
       "      <td>0.000214</td>\n",
       "      <td>0.003753</td>\n",
       "      <td>KO3</td>\n",
       "    </tr>\n",
       "    <tr>\n",
       "      <th>CCCAAGGGCCGGACCA_1_0</th>\n",
       "      <td>-0.020872</td>\n",
       "      <td>-0.001243</td>\n",
       "      <td>0.001219</td>\n",
       "      <td>WT1</td>\n",
       "    </tr>\n",
       "    <tr>\n",
       "      <th>CCAGAGCGCAAAATTT_1_1</th>\n",
       "      <td>-0.011802</td>\n",
       "      <td>-0.001108</td>\n",
       "      <td>0.000120</td>\n",
       "      <td>WT2</td>\n",
       "    </tr>\n",
       "    <tr>\n",
       "      <th>CACGATTCATCGCCAT_0_0</th>\n",
       "      <td>-0.015922</td>\n",
       "      <td>-0.000356</td>\n",
       "      <td>0.000801</td>\n",
       "      <td>WT1</td>\n",
       "    </tr>\n",
       "  </tbody>\n",
       "</table>\n",
       "</div>"
      ],
      "text/plain": [
       "                      PHATE_HVG_1  PHATE_HVG_2  PHATE_HVG_3 conditions\n",
       "CCTTATAAACCACAGT_1_1    -0.017727    -0.001601     0.000652        WT2\n",
       "AAGAATTAAGCGCCAC_3       0.037121     0.000214     0.003753        KO3\n",
       "CCCAAGGGCCGGACCA_1_0    -0.020872    -0.001243     0.001219        WT1\n",
       "CCAGAGCGCAAAATTT_1_1    -0.011802    -0.001108     0.000120        WT2\n",
       "CACGATTCATCGCCAT_0_0    -0.015922    -0.000356     0.000801        WT1"
      ]
     },
     "execution_count": 19,
     "metadata": {},
     "output_type": "execute_result"
    }
   ],
   "source": [
    "df_p = pipe.get_embedding(add_conditions=False)\n",
    "df_p = df_p.join(pipe.adata.obs.conditions)\n",
    "df_p.head()"
   ]
  },
  {
   "attachments": {},
   "cell_type": "markdown",
   "metadata": {},
   "source": [
    "#### Combined\n",
    "Now we combine `df_p` (points + condition) with `df_s` (\"sidecars\" i.e. gene expression). This is necessary as for script later on where we need to add the sidecars to already the `quadfeather`-ed (tiled) point data. "
   ]
  },
  {
   "cell_type": "code",
   "execution_count": 20,
   "metadata": {},
   "outputs": [
    {
     "data": {
      "text/html": [
       "<div>\n",
       "<style scoped>\n",
       "    .dataframe tbody tr th:only-of-type {\n",
       "        vertical-align: middle;\n",
       "    }\n",
       "\n",
       "    .dataframe tbody tr th {\n",
       "        vertical-align: top;\n",
       "    }\n",
       "\n",
       "    .dataframe thead th {\n",
       "        text-align: right;\n",
       "    }\n",
       "</style>\n",
       "<table border=\"1\" class=\"dataframe\">\n",
       "  <thead>\n",
       "    <tr style=\"text-align: right;\">\n",
       "      <th></th>\n",
       "      <th>PHATE_HVG_1</th>\n",
       "      <th>PHATE_HVG_2</th>\n",
       "      <th>PHATE_HVG_3</th>\n",
       "      <th>conditions</th>\n",
       "      <th>samd11</th>\n",
       "      <th>hes4</th>\n",
       "      <th>isg15</th>\n",
       "      <th>ensg00000242590</th>\n",
       "      <th>pusl1</th>\n",
       "      <th>aurkaip1</th>\n",
       "      <th>...</th>\n",
       "      <th>sry</th>\n",
       "      <th>rps4y1</th>\n",
       "      <th>zfy</th>\n",
       "      <th>tbl1y</th>\n",
       "      <th>usp9y</th>\n",
       "      <th>ddx3y</th>\n",
       "      <th>tmsb4y</th>\n",
       "      <th>ttty14</th>\n",
       "      <th>ensg00000273748</th>\n",
       "      <th>ensg00000276345</th>\n",
       "    </tr>\n",
       "  </thead>\n",
       "  <tbody>\n",
       "    <tr>\n",
       "      <th>CCTTATAAACCACAGT_1_1</th>\n",
       "      <td>-0.017727</td>\n",
       "      <td>-0.001601</td>\n",
       "      <td>0.000652</td>\n",
       "      <td>WT2</td>\n",
       "      <td>0.003283</td>\n",
       "      <td>0.118062</td>\n",
       "      <td>0.472036</td>\n",
       "      <td>0.027416</td>\n",
       "      <td>0.169887</td>\n",
       "      <td>1.030929</td>\n",
       "      <td>...</td>\n",
       "      <td>0.038441</td>\n",
       "      <td>1.540256</td>\n",
       "      <td>0.024484</td>\n",
       "      <td>0.080791</td>\n",
       "      <td>0.048672</td>\n",
       "      <td>0.069707</td>\n",
       "      <td>0.141571</td>\n",
       "      <td>0.805999</td>\n",
       "      <td>0.039596</td>\n",
       "      <td>0.245006</td>\n",
       "    </tr>\n",
       "    <tr>\n",
       "      <th>AAGAATTAAGCGCCAC_3</th>\n",
       "      <td>0.037121</td>\n",
       "      <td>0.000214</td>\n",
       "      <td>0.003753</td>\n",
       "      <td>KO3</td>\n",
       "      <td>0.001689</td>\n",
       "      <td>0.113360</td>\n",
       "      <td>0.905589</td>\n",
       "      <td>0.065835</td>\n",
       "      <td>0.232847</td>\n",
       "      <td>1.322561</td>\n",
       "      <td>...</td>\n",
       "      <td>0.056539</td>\n",
       "      <td>1.575424</td>\n",
       "      <td>0.044290</td>\n",
       "      <td>0.126020</td>\n",
       "      <td>0.070170</td>\n",
       "      <td>0.133023</td>\n",
       "      <td>0.364901</td>\n",
       "      <td>1.001463</td>\n",
       "      <td>0.080280</td>\n",
       "      <td>0.387865</td>\n",
       "    </tr>\n",
       "    <tr>\n",
       "      <th>CCCAAGGGCCGGACCA_1_0</th>\n",
       "      <td>-0.020872</td>\n",
       "      <td>-0.001243</td>\n",
       "      <td>0.001219</td>\n",
       "      <td>WT1</td>\n",
       "      <td>0.003540</td>\n",
       "      <td>0.130652</td>\n",
       "      <td>0.463194</td>\n",
       "      <td>0.027383</td>\n",
       "      <td>0.138941</td>\n",
       "      <td>1.004315</td>\n",
       "      <td>...</td>\n",
       "      <td>0.037742</td>\n",
       "      <td>1.418464</td>\n",
       "      <td>0.024481</td>\n",
       "      <td>0.077431</td>\n",
       "      <td>0.052463</td>\n",
       "      <td>0.061942</td>\n",
       "      <td>0.122234</td>\n",
       "      <td>0.679069</td>\n",
       "      <td>0.034625</td>\n",
       "      <td>0.200009</td>\n",
       "    </tr>\n",
       "    <tr>\n",
       "      <th>CCAGAGCGCAAAATTT_1_1</th>\n",
       "      <td>-0.011802</td>\n",
       "      <td>-0.001108</td>\n",
       "      <td>0.000120</td>\n",
       "      <td>WT2</td>\n",
       "      <td>0.004077</td>\n",
       "      <td>0.139749</td>\n",
       "      <td>0.481334</td>\n",
       "      <td>0.024868</td>\n",
       "      <td>0.206931</td>\n",
       "      <td>1.081458</td>\n",
       "      <td>...</td>\n",
       "      <td>0.041151</td>\n",
       "      <td>1.581175</td>\n",
       "      <td>0.023106</td>\n",
       "      <td>0.078843</td>\n",
       "      <td>0.058081</td>\n",
       "      <td>0.080372</td>\n",
       "      <td>0.223433</td>\n",
       "      <td>0.839984</td>\n",
       "      <td>0.065277</td>\n",
       "      <td>0.259735</td>\n",
       "    </tr>\n",
       "    <tr>\n",
       "      <th>CACGATTCATCGCCAT_0_0</th>\n",
       "      <td>-0.015922</td>\n",
       "      <td>-0.000356</td>\n",
       "      <td>0.000801</td>\n",
       "      <td>WT1</td>\n",
       "      <td>0.006096</td>\n",
       "      <td>0.169425</td>\n",
       "      <td>0.462624</td>\n",
       "      <td>0.069898</td>\n",
       "      <td>0.160462</td>\n",
       "      <td>1.016115</td>\n",
       "      <td>...</td>\n",
       "      <td>0.056821</td>\n",
       "      <td>1.633546</td>\n",
       "      <td>0.027202</td>\n",
       "      <td>0.082261</td>\n",
       "      <td>0.069610</td>\n",
       "      <td>0.071924</td>\n",
       "      <td>0.164898</td>\n",
       "      <td>0.758949</td>\n",
       "      <td>0.041318</td>\n",
       "      <td>0.234896</td>\n",
       "    </tr>\n",
       "  </tbody>\n",
       "</table>\n",
       "<p>5 rows × 6278 columns</p>\n",
       "</div>"
      ],
      "text/plain": [
       "                      PHATE_HVG_1  PHATE_HVG_2  PHATE_HVG_3 conditions  \\\n",
       "CCTTATAAACCACAGT_1_1    -0.017727    -0.001601     0.000652        WT2   \n",
       "AAGAATTAAGCGCCAC_3       0.037121     0.000214     0.003753        KO3   \n",
       "CCCAAGGGCCGGACCA_1_0    -0.020872    -0.001243     0.001219        WT1   \n",
       "CCAGAGCGCAAAATTT_1_1    -0.011802    -0.001108     0.000120        WT2   \n",
       "CACGATTCATCGCCAT_0_0    -0.015922    -0.000356     0.000801        WT1   \n",
       "\n",
       "                        samd11      hes4     isg15  ensg00000242590     pusl1  \\\n",
       "CCTTATAAACCACAGT_1_1  0.003283  0.118062  0.472036         0.027416  0.169887   \n",
       "AAGAATTAAGCGCCAC_3    0.001689  0.113360  0.905589         0.065835  0.232847   \n",
       "CCCAAGGGCCGGACCA_1_0  0.003540  0.130652  0.463194         0.027383  0.138941   \n",
       "CCAGAGCGCAAAATTT_1_1  0.004077  0.139749  0.481334         0.024868  0.206931   \n",
       "CACGATTCATCGCCAT_0_0  0.006096  0.169425  0.462624         0.069898  0.160462   \n",
       "\n",
       "                      aurkaip1  ...       sry    rps4y1       zfy     tbl1y  \\\n",
       "CCTTATAAACCACAGT_1_1  1.030929  ...  0.038441  1.540256  0.024484  0.080791   \n",
       "AAGAATTAAGCGCCAC_3    1.322561  ...  0.056539  1.575424  0.044290  0.126020   \n",
       "CCCAAGGGCCGGACCA_1_0  1.004315  ...  0.037742  1.418464  0.024481  0.077431   \n",
       "CCAGAGCGCAAAATTT_1_1  1.081458  ...  0.041151  1.581175  0.023106  0.078843   \n",
       "CACGATTCATCGCCAT_0_0  1.016115  ...  0.056821  1.633546  0.027202  0.082261   \n",
       "\n",
       "                         usp9y     ddx3y    tmsb4y    ttty14  ensg00000273748  \\\n",
       "CCTTATAAACCACAGT_1_1  0.048672  0.069707  0.141571  0.805999         0.039596   \n",
       "AAGAATTAAGCGCCAC_3    0.070170  0.133023  0.364901  1.001463         0.080280   \n",
       "CCCAAGGGCCGGACCA_1_0  0.052463  0.061942  0.122234  0.679069         0.034625   \n",
       "CCAGAGCGCAAAATTT_1_1  0.058081  0.080372  0.223433  0.839984         0.065277   \n",
       "CACGATTCATCGCCAT_0_0  0.069610  0.071924  0.164898  0.758949         0.041318   \n",
       "\n",
       "                      ensg00000276345  \n",
       "CCTTATAAACCACAGT_1_1         0.245006  \n",
       "AAGAATTAAGCGCCAC_3           0.387865  \n",
       "CCCAAGGGCCGGACCA_1_0         0.200009  \n",
       "CCAGAGCGCAAAATTT_1_1         0.259735  \n",
       "CACGATTCATCGCCAT_0_0         0.234896  \n",
       "\n",
       "[5 rows x 6278 columns]"
      ]
     },
     "execution_count": 20,
     "metadata": {},
     "output_type": "execute_result"
    }
   ],
   "source": [
    "df_all = df_p.join(df_s)\n",
    "df_all.head()"
   ]
  },
  {
   "attachments": {},
   "cell_type": "markdown",
   "metadata": {},
   "source": [
    "### QuadFeatherRenamer\n",
    "\n",
    "Note: `quadfeather` and `deepscatter` are both under active development so things change all the time. At the moment `quadfeather` requires that `x` and `y` be in your DataFrame (it doesn't mind if `z` is there too). So this will handle the renaming of our columns."
   ]
  },
  {
   "cell_type": "code",
   "execution_count": 23,
   "metadata": {},
   "outputs": [],
   "source": [
    "df_all.index.name = df_p.index.name = df_s.index.name = 'barcodes'"
   ]
  },
  {
   "cell_type": "code",
   "execution_count": 24,
   "metadata": {},
   "outputs": [],
   "source": [
    "qfr = QuadFeatherRenamer(df_all)"
   ]
  },
  {
   "cell_type": "code",
   "execution_count": 25,
   "metadata": {},
   "outputs": [
    {
     "data": {
      "text/plain": [
       "{'PHATE_HVG_1': 'x', 'PHATE_HVG_2': 'y', 'PHATE_HVG_3': 'z'}"
      ]
     },
     "execution_count": 25,
     "metadata": {},
     "output_type": "execute_result"
    }
   ],
   "source": [
    "df_q, renamed = qfr.rename()\n",
    "renamed"
   ]
  },
  {
   "attachments": {},
   "cell_type": "markdown",
   "metadata": {},
   "source": [
    "### DataFrameToMetadata\n",
    " \n",
    "`Deepscatter` is a really nice library; however, it also prefers to have its `plotAPI` method called with as much information as possible. This is a bit of a shame as it means that one you load your data with `deepscatter` you can't compute derived properties (e.g. domain of your data to scale the plot, check for what sidecars are availble, etc). \n",
    "\n",
    "The solution to this is simple. In order to have this information availble to us, we will just calculate it now (including which columns were renamed) and store it as metadata to use later"
   ]
  },
  {
   "cell_type": "code",
   "execution_count": 27,
   "metadata": {},
   "outputs": [],
   "source": [
    "# NOTE: it is important to make sure that the index has a name!\n",
    "df_q.index.name = 'barcodes'"
   ]
  },
  {
   "attachments": {},
   "cell_type": "markdown",
   "metadata": {},
   "source": [
    "#### unique columns"
   ]
  },
  {
   "cell_type": "code",
   "execution_count": 28,
   "metadata": {},
   "outputs": [],
   "source": [
    "all_cols = df_q.columns.tolist()\n",
    "uni_cols, col_cnts = np.unique(all_cols, return_counts=True)\n",
    "\n",
    "for n, c in zip(uni_cols, col_cnts):\n",
    "    if c == 1:\n",
    "        continue\n",
    "\n",
    "    i = 0\n",
    "    for j, o in enumerate(all_cols):\n",
    "        if o != n:\n",
    "            continue\n",
    "        all_cols[j] = f'{n}_{i}'\n",
    "        i += 1\n",
    "\n",
    "df_q.columns = all_cols"
   ]
  },
  {
   "attachments": {},
   "cell_type": "markdown",
   "metadata": {},
   "source": [
    "#### perpare metadata"
   ]
  },
  {
   "cell_type": "code",
   "execution_count": 29,
   "metadata": {},
   "outputs": [],
   "source": [
    "d2m = DataFrameToMetadata(\n",
    "    df_q, \n",
    "    include_index=True,\n",
    "    embedding='x y z'.split(),\n",
    "    alt_names={v:k for k,v in renamed.items()}\n",
    ")"
   ]
  },
  {
   "cell_type": "code",
   "execution_count": 30,
   "metadata": {},
   "outputs": [
    {
     "data": {
      "text/plain": [
       "(6279, 0)"
      ]
     },
     "execution_count": 30,
     "metadata": {},
     "output_type": "execute_result"
    }
   ],
   "source": [
    "succ, fail = d2m.convert()\n",
    "len(succ), len(fail)"
   ]
  },
  {
   "cell_type": "code",
   "execution_count": 31,
   "metadata": {},
   "outputs": [],
   "source": [
    "meta = d2m.to_meta()"
   ]
  },
  {
   "attachments": {},
   "cell_type": "markdown",
   "metadata": {},
   "source": [
    "## Quadfeather Workflow"
   ]
  },
  {
   "attachments": {},
   "cell_type": "markdown",
   "metadata": {},
   "source": [
    "Now we can now run through thte `quadfeather` workflow right here in the notebook."
   ]
  },
  {
   "attachments": {},
   "cell_type": "markdown",
   "metadata": {},
   "source": [
    "### 0) setup"
   ]
  },
  {
   "cell_type": "code",
   "execution_count": 32,
   "metadata": {},
   "outputs": [],
   "source": [
    "# dump everything to downloads for easy access\n",
    "outdir = os.path.expanduser('~/Downloads/seo_feather')\n",
    "qf_dir = os.path.join(outdir, 'tiles')\n",
    "if not os.path.isdir(qf_dir):\n",
    "    os.makedirs(qf_dir)\n",
    "\n",
    "\n",
    "p_file = os.path.join(outdir, 'points.parquet')\n",
    "# NOTE: we never use s_file\n",
    "# s_file = os.path.join(outdir, 'extras.parquet')\n",
    "f_file = os.path.join(qf_dir, 'sidecars.feather')\n",
    "m_file = os.path.join(outdir, 'meta.yml')\n",
    "\n",
    "\n",
    "tile_size = 1000"
   ]
  },
  {
   "attachments": {},
   "cell_type": "markdown",
   "metadata": {},
   "source": [
    "### 1) create tiles"
   ]
  },
  {
   "cell_type": "code",
   "execution_count": 33,
   "metadata": {},
   "outputs": [],
   "source": [
    "d2m.df.drop(columns=d2m.sidecars).to_parquet(p_file)\n",
    "# d2m.df.drop(columns=d2m.embedding).to_parquet(s_file)"
   ]
  },
  {
   "cell_type": "code",
   "execution_count": 34,
   "metadata": {},
   "outputs": [],
   "source": [
    "!quadfeather --files {p_file} \\\n",
    "             --tile_size {tile_size} \\\n",
    "             --destination {qf_dir}"
   ]
  },
  {
   "attachments": {},
   "cell_type": "markdown",
   "metadata": {},
   "source": [
    "### 2) make single file"
   ]
  },
  {
   "cell_type": "code",
   "execution_count": 35,
   "metadata": {},
   "outputs": [],
   "source": [
    "feather.write_feather(d2m.df.drop(columns=d2m.embedding), f_file)"
   ]
  },
  {
   "attachments": {},
   "cell_type": "markdown",
   "metadata": {},
   "source": [
    "### 3) run `add_sidecars.py`"
   ]
  },
  {
   "cell_type": "code",
   "execution_count": 36,
   "metadata": {},
   "outputs": [],
   "source": [
    "tileset = Tileset(Path(qf_dir))\n",
    "tileset.add_sidecars(f_file, d2m.df.index.name)"
   ]
  },
  {
   "attachments": {},
   "cell_type": "markdown",
   "metadata": {},
   "source": [
    "note we copied `add_sidecars.py` so you can use it directly from this library"
   ]
  },
  {
   "cell_type": "code",
   "execution_count": 44,
   "metadata": {},
   "outputs": [],
   "source": [
    "!featherplot add-sidecars --tileset {qf_dir}\\\n",
    "                         --sidecar {f_file} --key {d2m.df.index.name};"
   ]
  },
  {
   "attachments": {},
   "cell_type": "markdown",
   "metadata": {},
   "source": [
    "```sh\n",
    "featherplot-py featherplot add-sidecars --help\n",
    "\n",
    "Usage: featherplot add-sidecars \n",
    "[OPTIONS]\n",
    "--tileset          PATH  Path to the tileset to add sidecars to.\n",
    "--sidecar          PATH  Path to the new data to add to the tileset.\n",
    "--key              TEXT  key to use for joining; must exist in both tables\n",
    "--verbose  -v            Print verbose output.\n",
    "--help                   Show this message and exit.\n",
    "```"
   ]
  },
  {
   "attachments": {},
   "cell_type": "markdown",
   "metadata": {},
   "source": [
    "alternatively you can run the script form wherever you saved it"
   ]
  },
  {
   "cell_type": "code",
   "execution_count": null,
   "metadata": {},
   "outputs": [],
   "source": [
    "!python3 add_sidecars.py --tileset {qf_dir}\\\n",
    "                         --sidecar {f_file} --key {d2m.df.index.name};"
   ]
  },
  {
   "attachments": {},
   "cell_type": "markdown",
   "metadata": {},
   "source": [
    "### 4) update metadata with directory"
   ]
  },
  {
   "cell_type": "code",
   "execution_count": 37,
   "metadata": {},
   "outputs": [
    {
     "data": {
      "text/plain": [
       "dict_keys(['index', 'n_points', 'embedding', 'sidecars', 'columns_metadata', 'tiles_dir'])"
      ]
     },
     "execution_count": 37,
     "metadata": {},
     "output_type": "execute_result"
    }
   ],
   "source": [
    "meta.keys()"
   ]
  },
  {
   "cell_type": "code",
   "execution_count": 38,
   "metadata": {},
   "outputs": [],
   "source": [
    "# relative path to tiles\n",
    "meta['tiles_dir'] = qf_dir.replace(outdir, '')\n",
    "# full path to tiles\n",
    "meta['full_path'] = collapse_user(qf_dir)"
   ]
  },
  {
   "cell_type": "code",
   "execution_count": 39,
   "metadata": {},
   "outputs": [],
   "source": [
    "with open(m_file, 'w') as f:\n",
    "    f.write(yaml.dump(meta))"
   ]
  },
  {
   "attachments": {},
   "cell_type": "markdown",
   "metadata": {},
   "source": [
    "### 5) cleanup"
   ]
  },
  {
   "cell_type": "code",
   "execution_count": null,
   "metadata": {},
   "outputs": [],
   "source": []
  }
 ],
 "metadata": {
  "kernelspec": {
   "display_name": "featherplot",
   "language": "python",
   "name": "python3"
  },
  "language_info": {
   "codemirror_mode": {
    "name": "ipython",
    "version": 3
   },
   "file_extension": ".py",
   "mimetype": "text/x-python",
   "name": "python",
   "nbconvert_exporter": "python",
   "pygments_lexer": "ipython3",
   "version": "3.11.4"
  },
  "orig_nbformat": 4
 },
 "nbformat": 4,
 "nbformat_minor": 2
}
